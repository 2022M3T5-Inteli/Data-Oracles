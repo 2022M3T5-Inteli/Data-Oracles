{
  "nbformat": 4,
  "nbformat_minor": 0,
  "metadata": {
    "colab": {
      "provenance": []
    },
    "kernelspec": {
      "name": "python3",
      "display_name": "Python 3"
    },
    "language_info": {
      "name": "python"
    }
  },
  "cells": [
    {
      "cell_type": "code",
      "source": [
        "from google.colab import drive\n",
        "drive.mount('/content/drive')"
      ],
      "metadata": {
        "colab": {
          "base_uri": "https://localhost:8080/"
        },
        "id": "Z-C42NGUNOMz",
        "outputId": "4cb47ec1-6dd2-4d2c-a89a-f5c698644b75"
      },
      "execution_count": 1,
      "outputs": [
        {
          "output_type": "stream",
          "name": "stdout",
          "text": [
            "Mounted at /content/drive\n"
          ]
        }
      ]
    },
    {
      "cell_type": "code",
      "execution_count": 2,
      "metadata": {
        "id": "03GoFwETyzut"
      },
      "outputs": [],
      "source": [
        "import pickle\n",
        "modelo_rat_carregado = pickle.load(open('/content/drive/MyDrive/Input/modelo_rat_finalizado.txt', 'rb'))\n",
        "modelo_share_carregado = pickle.load(open('/content/drive/MyDrive/Input/modelo_share_finalizado.txt', 'rb'))\n",
        "modelo_fid_carregado = pickle.load(open('/content/drive/MyDrive/Input/modelo_fid_finalizado.txt', 'rb'))\n",
        "\n"
      ]
    },
    {
      "cell_type": "markdown",
      "source": [
        "### Seleção de inputs"
      ],
      "metadata": {
        "id": "s5YO0B2xNqpH"
      }
    },
    {
      "cell_type": "code",
      "source": [
        "hora = 6.0 #@param {type:\"number\"}\n",
        "dia_semana = 'Segunda' #@param [\"Segunda\", \"Terça\", \"Quarta\", \"Quinta\", \"Sexta\", \"Sábado\", \"Domingo\"]\n",
        "mes = 1 #@param {type:\"number\"}\n",
        "dia_mes = 1 #@param {type:\"number\"}\n",
        "feriado = False #@param {type:\"boolean\"}\n",
        "categoria = 'Categoria_OUTROS' #@param ['Categoria_CARROS E MOTORES','Categoria_CULINARIO','Categoria_DEBATE', 'Categoria_DOCUMENTARIO','Categoria_EDUCATIVO','Categoria_ENTREVISTA', 'Categoria_ESPORTE','Categoria_FEMININO','Categoria_FILME','Categoria_FUTEBOL', 'Categoria_GAME SHOW','Categoria_HUMORISTICO','Categoria_JORNALISMO', 'Categoria_MINISSERIE','Categoria_MUSICAL','Categoria_NOVELA','Categoria_OUTROS', 'Categoria_POLITICO','Categoria_PREMIACAO','Categoria_REALITY SHOW', 'Categoria_RELIGIOSO','Categoria_REPORTAGEM','Categoria_RURAL','Categoria_SERIES', 'Categoria_SHOW','Categoria_SORTEIO','Categoria_TELE VENDAS']"
      ],
      "metadata": {
        "id": "_8GnMIxiNuMC"
      },
      "execution_count": 3,
      "outputs": []
    },
    {
      "cell_type": "markdown",
      "source": [
        "###### Transformando os dias da semana em números"
      ],
      "metadata": {
        "id": "bQHgDDG3OatO"
      }
    },
    {
      "cell_type": "code",
      "source": [
        "encoding_semana = {'Segunda': 1, 'Terça': 2, 'Quarta': 3, 'Quinta': 4, 'Sexta': 5, \n",
        "                 'Sábado': 6, 'Domingo': 7}\n",
        "dia_semana = encoding_semana[dia_semana]"
      ],
      "metadata": {
        "id": "YHErA2isOUip"
      },
      "execution_count": 4,
      "outputs": []
    },
    {
      "cell_type": "markdown",
      "source": [
        "###### Criação dos dicionários"
      ],
      "metadata": {
        "id": "gKIGdfN2OfoN"
      }
    },
    {
      "cell_type": "code",
      "source": [
        "dicionario = {\n",
        "    \"Hora Início\": hora,\n",
        "    \"Dia da Semana\": dia_semana,\n",
        "    \"Mês\": mes,\n",
        "    \"Dia\": dia_mes,\n",
        "    \"Feriado\": feriado,\n",
        "    \"Categoria_CARROS E MOTORES\":0,\n",
        "    \"Categoria_CULINARIO\":0,\n",
        "    \"Categoria_DEBATE\":0,\n",
        "    \"Categoria_DOCUMENTARIO\":0,\n",
        "    \"Categoria_EDUCATIVO\":0,\n",
        "    \"Categoria_ENTREVISTA\":0,\n",
        "    \"Categoria_ESPORTE\":0,\n",
        "    \"Categoria_FEMININO\":0,          \n",
        "    \"Categoria_FILME\":0,                \n",
        "    \"Categoria_FUTEBOL\":0,             \n",
        "    \"Categoria_GAME SHOW\":0,            \n",
        "    \"Categoria_HUMORISTICO\":0,          \n",
        "    \"Categoria_JORNALISMO\":0,           \n",
        "    \"Categoria_MINISSERIE\":0,           \n",
        "    \"Categoria_MUSICAL\":0,             \n",
        "    \"Categoria_NOVELA\":0,               \n",
        "    \"Categoria_OUTROS\":0,               \n",
        "    \"Categoria_POLITICO\":0,             \n",
        "    \"Categoria_PREMIACAO\":0,            \n",
        "    \"Categoria_REALITY SHOW\":0,         \n",
        "    \"Categoria_RELIGIOSO\":0,            \n",
        "    \"Categoria_REPORTAGEM\":0,       \n",
        "    \"Categoria_RURAL\":0,                \n",
        "    \"Categoria_SERIES\":0,               \n",
        "    \"Categoria_SHOW\":0,                 \n",
        "    \"Categoria_SORTEIO\":0,              \n",
        "    \"Categoria_TELE VENDAS\":0,          \n",
        "}\n",
        "dicionario[categoria] = 1"
      ],
      "metadata": {
        "id": "TXejCqO8OiNs"
      },
      "execution_count": 5,
      "outputs": []
    },
    {
      "cell_type": "code",
      "source": [
        "input = list(dicionario.values())\n",
        "## Rat\n",
        "modelo_rat_carregado.predict([input, input])"
      ],
      "metadata": {
        "colab": {
          "base_uri": "https://localhost:8080/"
        },
        "id": "o-K_e1mBQBnJ",
        "outputId": "f6bdac07-b86c-4f4d-c50b-d50e0985ecd1"
      },
      "execution_count": 9,
      "outputs": [
        {
          "output_type": "execute_result",
          "data": {
            "text/plain": [
              "array([[5.30867374, 2.02568901, 2.79314974, 1.84668473, 5.87947601,\n",
              "        2.00890873, 3.17759625, 2.28766236, 3.12708542, 1.44938818,\n",
              "        1.38361933, 2.32242355, 3.70481131, 3.82141612],\n",
              "       [5.30867374, 2.02568901, 2.79314974, 1.84668473, 5.87947601,\n",
              "        2.00890873, 3.17759625, 2.28766236, 3.12708542, 1.44938818,\n",
              "        1.38361933, 2.32242355, 3.70481131, 3.82141612]])"
            ]
          },
          "metadata": {},
          "execution_count": 9
        }
      ]
    },
    {
      "cell_type": "code",
      "source": [
        "##Share\n",
        "modelo_share_carregado.predict([input, input])"
      ],
      "metadata": {
        "colab": {
          "base_uri": "https://localhost:8080/"
        },
        "id": "YYWtrcnHOkSd",
        "outputId": "1d2642c0-3c93-401f-a5c3-7d1c211f84a4"
      },
      "execution_count": 11,
      "outputs": [
        {
          "output_type": "execute_result",
          "data": {
            "text/plain": [
              "array([[45.60421083, 26.18355543, 43.69665134, 54.16653963, 55.97281403,\n",
              "        38.10935227, 62.62094605, 30.07338453, 37.52316649, 65.61849568,\n",
              "        39.47885974, 60.74643363, 45.39267502, 44.98929511],\n",
              "       [45.60421083, 26.18355543, 43.69665134, 54.16653963, 55.97281403,\n",
              "        38.10935227, 62.62094605, 30.07338453, 37.52316649, 65.61849568,\n",
              "        39.47885974, 60.74643363, 45.39267502, 44.98929511]])"
            ]
          },
          "metadata": {},
          "execution_count": 11
        }
      ]
    },
    {
      "cell_type": "code",
      "source": [
        "##Fid\n",
        "modelo_fid_carregado.predict([input, input])"
      ],
      "metadata": {
        "colab": {
          "base_uri": "https://localhost:8080/"
        },
        "id": "AHiBP4b6Om7z",
        "outputId": "73800cf1-edc9-476e-aa0a-982bb4470409"
      },
      "execution_count": 12,
      "outputs": [
        {
          "output_type": "execute_result",
          "data": {
            "text/plain": [
              "array([[93.48192012, 64.56489707, 88.55984199, 94.39123671, 77.91205823,\n",
              "        88.15738388, 94.15100704, 66.21302833, 87.84606631, 40.74346256,\n",
              "        89.85537206, 87.43317047, 66.12292312, 90.27698586],\n",
              "       [93.48192012, 64.56489707, 88.55984199, 94.39123671, 77.91205823,\n",
              "        88.15738388, 94.15100704, 66.21302833, 87.84606631, 40.74346256,\n",
              "        89.85537206, 87.43317047, 66.12292312, 90.27698586]])"
            ]
          },
          "metadata": {},
          "execution_count": 12
        }
      ]
    }
  ]
}