{
  "nbformat": 4,
  "nbformat_minor": 0,
  "metadata": {
    "colab": {
      "provenance": [],
      "collapsed_sections": []
    },
    "kernelspec": {
      "name": "python3",
      "display_name": "Python 3"
    },
    "language_info": {
      "name": "python"
    }
  },
  "cells": [
    {
      "cell_type": "code",
      "source": [
        "import pandas as pd\n",
        "import numpy as np\n",
        "\n",
        "import matplotlib.pyplot as plt"
      ],
      "metadata": {
        "id": "OH1I0eyc4jny"
      },
      "execution_count": null,
      "outputs": []
    },
    {
      "cell_type": "markdown",
      "source": [
        "## 1. Carregamento dos Dados"
      ],
      "metadata": {
        "id": "bk8IY0al4dSE"
      }
    },
    {
      "cell_type": "code",
      "execution_count": null,
      "metadata": {
        "colab": {
          "base_uri": "https://localhost:8080/",
          "height": 522
        },
        "id": "kUCgtsWh1yp3",
        "outputId": "cb942525-a924-4001-dbcf-b872b078cc41"
      },
      "outputs": [
        {
          "output_type": "execute_result",
          "data": {
            "text/plain": [
              "        Unnamed: 0  Hora Início  Dia da Semana  Total Domicílios | Rat%  \\\n",
              "0                0         6.00              1                     4.27   \n",
              "1                1         6.00              1                     4.89   \n",
              "2                2         6.00              1                     5.74   \n",
              "3                3         6.25              1                     6.55   \n",
              "4                4         6.25              1                     7.27   \n",
              "...            ...          ...            ...                      ...   \n",
              "218863      218863        29.50              4                     1.67   \n",
              "218864      218864        29.50              4                     1.97   \n",
              "218865      218865        29.75              4                     2.22   \n",
              "218866      218866        29.75              4                     2.71   \n",
              "218867      218867        29.75              4                     3.60   \n",
              "\n",
              "        AB | Rat%  C1 | Rat%  C2 | Rat%  DE | Rat%  Masculino | Rat%  \\\n",
              "0            2.40       0.31       0.82       5.23              1.65   \n",
              "1            3.02       0.51       1.08       5.23              1.89   \n",
              "2            3.13       1.53       1.22       5.23              1.97   \n",
              "3            3.06       1.86       1.48       6.46              1.92   \n",
              "4            3.49       2.18       1.48       6.46              2.23   \n",
              "...           ...        ...        ...        ...               ...   \n",
              "218863       0.30       0.41       1.03       0.53              0.17   \n",
              "218864       0.30       0.41       1.45       0.35              0.17   \n",
              "218865       0.30       0.41       1.45       0.88              0.17   \n",
              "218866       0.54       0.41       1.81       0.88              0.37   \n",
              "218867       0.90       0.41       2.50       0.88              0.51   \n",
              "\n",
              "        Feminino | Rat%  ...  Categoria_REALITY SHOW  Categoria_RELIGIOSO  \\\n",
              "0                  2.35  ...                       0                    0   \n",
              "1                  2.75  ...                       0                    0   \n",
              "2                  3.24  ...                       0                    0   \n",
              "3                  3.92  ...                       0                    0   \n",
              "4                  4.05  ...                       0                    0   \n",
              "...                 ...  ...                     ...                  ...   \n",
              "218863             0.92  ...                       0                    0   \n",
              "218864             1.07  ...                       0                    0   \n",
              "218865             1.26  ...                       0                    0   \n",
              "218866             1.42  ...                       0                    0   \n",
              "218867             1.89  ...                       0                    0   \n",
              "\n",
              "        Categoria_REPORTAGEM  Categoria_RURAL  Categoria_SERIES  \\\n",
              "0                          0                0                 0   \n",
              "1                          0                0                 0   \n",
              "2                          0                0                 0   \n",
              "3                          0                0                 0   \n",
              "4                          0                0                 0   \n",
              "...                      ...              ...               ...   \n",
              "218863                     0                0                 0   \n",
              "218864                     0                0                 0   \n",
              "218865                     0                0                 0   \n",
              "218866                     0                0                 0   \n",
              "218867                     0                0                 0   \n",
              "\n",
              "        Categoria_SHOW  Categoria_SORTEIO  Categoria_TELE VENDAS  Feriado  \\\n",
              "0                    0                  0                      0        0   \n",
              "1                    0                  0                      0        0   \n",
              "2                    0                  0                      0        0   \n",
              "3                    0                  0                      0        0   \n",
              "4                    0                  0                      0        0   \n",
              "...                ...                ...                    ...      ...   \n",
              "218863               0                  0                      0        0   \n",
              "218864               0                  0                      0        0   \n",
              "218865               0                  0                      0        0   \n",
              "218866               0                  0                      0        0   \n",
              "218867               0                  0                      0        0   \n",
              "\n",
              "         Ano  \n",
              "0       2020  \n",
              "1       2020  \n",
              "2       2020  \n",
              "3       2020  \n",
              "4       2020  \n",
              "...      ...  \n",
              "218863  2022  \n",
              "218864  2022  \n",
              "218865  2022  \n",
              "218866  2022  \n",
              "218867  2022  \n",
              "\n",
              "[218868 rows x 76 columns]"
            ],
            "text/html": [
              "\n",
              "  <div id=\"df-8f958d0c-26ab-4f6d-93ed-52348b03a99e\">\n",
              "    <div class=\"colab-df-container\">\n",
              "      <div>\n",
              "<style scoped>\n",
              "    .dataframe tbody tr th:only-of-type {\n",
              "        vertical-align: middle;\n",
              "    }\n",
              "\n",
              "    .dataframe tbody tr th {\n",
              "        vertical-align: top;\n",
              "    }\n",
              "\n",
              "    .dataframe thead th {\n",
              "        text-align: right;\n",
              "    }\n",
              "</style>\n",
              "<table border=\"1\" class=\"dataframe\">\n",
              "  <thead>\n",
              "    <tr style=\"text-align: right;\">\n",
              "      <th></th>\n",
              "      <th>Unnamed: 0</th>\n",
              "      <th>Hora Início</th>\n",
              "      <th>Dia da Semana</th>\n",
              "      <th>Total Domicílios | Rat%</th>\n",
              "      <th>AB | Rat%</th>\n",
              "      <th>C1 | Rat%</th>\n",
              "      <th>C2 | Rat%</th>\n",
              "      <th>DE | Rat%</th>\n",
              "      <th>Masculino | Rat%</th>\n",
              "      <th>Feminino | Rat%</th>\n",
              "      <th>...</th>\n",
              "      <th>Categoria_REALITY SHOW</th>\n",
              "      <th>Categoria_RELIGIOSO</th>\n",
              "      <th>Categoria_REPORTAGEM</th>\n",
              "      <th>Categoria_RURAL</th>\n",
              "      <th>Categoria_SERIES</th>\n",
              "      <th>Categoria_SHOW</th>\n",
              "      <th>Categoria_SORTEIO</th>\n",
              "      <th>Categoria_TELE VENDAS</th>\n",
              "      <th>Feriado</th>\n",
              "      <th>Ano</th>\n",
              "    </tr>\n",
              "  </thead>\n",
              "  <tbody>\n",
              "    <tr>\n",
              "      <th>0</th>\n",
              "      <td>0</td>\n",
              "      <td>6.00</td>\n",
              "      <td>1</td>\n",
              "      <td>4.27</td>\n",
              "      <td>2.40</td>\n",
              "      <td>0.31</td>\n",
              "      <td>0.82</td>\n",
              "      <td>5.23</td>\n",
              "      <td>1.65</td>\n",
              "      <td>2.35</td>\n",
              "      <td>...</td>\n",
              "      <td>0</td>\n",
              "      <td>0</td>\n",
              "      <td>0</td>\n",
              "      <td>0</td>\n",
              "      <td>0</td>\n",
              "      <td>0</td>\n",
              "      <td>0</td>\n",
              "      <td>0</td>\n",
              "      <td>0</td>\n",
              "      <td>2020</td>\n",
              "    </tr>\n",
              "    <tr>\n",
              "      <th>1</th>\n",
              "      <td>1</td>\n",
              "      <td>6.00</td>\n",
              "      <td>1</td>\n",
              "      <td>4.89</td>\n",
              "      <td>3.02</td>\n",
              "      <td>0.51</td>\n",
              "      <td>1.08</td>\n",
              "      <td>5.23</td>\n",
              "      <td>1.89</td>\n",
              "      <td>2.75</td>\n",
              "      <td>...</td>\n",
              "      <td>0</td>\n",
              "      <td>0</td>\n",
              "      <td>0</td>\n",
              "      <td>0</td>\n",
              "      <td>0</td>\n",
              "      <td>0</td>\n",
              "      <td>0</td>\n",
              "      <td>0</td>\n",
              "      <td>0</td>\n",
              "      <td>2020</td>\n",
              "    </tr>\n",
              "    <tr>\n",
              "      <th>2</th>\n",
              "      <td>2</td>\n",
              "      <td>6.00</td>\n",
              "      <td>1</td>\n",
              "      <td>5.74</td>\n",
              "      <td>3.13</td>\n",
              "      <td>1.53</td>\n",
              "      <td>1.22</td>\n",
              "      <td>5.23</td>\n",
              "      <td>1.97</td>\n",
              "      <td>3.24</td>\n",
              "      <td>...</td>\n",
              "      <td>0</td>\n",
              "      <td>0</td>\n",
              "      <td>0</td>\n",
              "      <td>0</td>\n",
              "      <td>0</td>\n",
              "      <td>0</td>\n",
              "      <td>0</td>\n",
              "      <td>0</td>\n",
              "      <td>0</td>\n",
              "      <td>2020</td>\n",
              "    </tr>\n",
              "    <tr>\n",
              "      <th>3</th>\n",
              "      <td>3</td>\n",
              "      <td>6.25</td>\n",
              "      <td>1</td>\n",
              "      <td>6.55</td>\n",
              "      <td>3.06</td>\n",
              "      <td>1.86</td>\n",
              "      <td>1.48</td>\n",
              "      <td>6.46</td>\n",
              "      <td>1.92</td>\n",
              "      <td>3.92</td>\n",
              "      <td>...</td>\n",
              "      <td>0</td>\n",
              "      <td>0</td>\n",
              "      <td>0</td>\n",
              "      <td>0</td>\n",
              "      <td>0</td>\n",
              "      <td>0</td>\n",
              "      <td>0</td>\n",
              "      <td>0</td>\n",
              "      <td>0</td>\n",
              "      <td>2020</td>\n",
              "    </tr>\n",
              "    <tr>\n",
              "      <th>4</th>\n",
              "      <td>4</td>\n",
              "      <td>6.25</td>\n",
              "      <td>1</td>\n",
              "      <td>7.27</td>\n",
              "      <td>3.49</td>\n",
              "      <td>2.18</td>\n",
              "      <td>1.48</td>\n",
              "      <td>6.46</td>\n",
              "      <td>2.23</td>\n",
              "      <td>4.05</td>\n",
              "      <td>...</td>\n",
              "      <td>0</td>\n",
              "      <td>0</td>\n",
              "      <td>0</td>\n",
              "      <td>0</td>\n",
              "      <td>0</td>\n",
              "      <td>0</td>\n",
              "      <td>0</td>\n",
              "      <td>0</td>\n",
              "      <td>0</td>\n",
              "      <td>2020</td>\n",
              "    </tr>\n",
              "    <tr>\n",
              "      <th>...</th>\n",
              "      <td>...</td>\n",
              "      <td>...</td>\n",
              "      <td>...</td>\n",
              "      <td>...</td>\n",
              "      <td>...</td>\n",
              "      <td>...</td>\n",
              "      <td>...</td>\n",
              "      <td>...</td>\n",
              "      <td>...</td>\n",
              "      <td>...</td>\n",
              "      <td>...</td>\n",
              "      <td>...</td>\n",
              "      <td>...</td>\n",
              "      <td>...</td>\n",
              "      <td>...</td>\n",
              "      <td>...</td>\n",
              "      <td>...</td>\n",
              "      <td>...</td>\n",
              "      <td>...</td>\n",
              "      <td>...</td>\n",
              "      <td>...</td>\n",
              "    </tr>\n",
              "    <tr>\n",
              "      <th>218863</th>\n",
              "      <td>218863</td>\n",
              "      <td>29.50</td>\n",
              "      <td>4</td>\n",
              "      <td>1.67</td>\n",
              "      <td>0.30</td>\n",
              "      <td>0.41</td>\n",
              "      <td>1.03</td>\n",
              "      <td>0.53</td>\n",
              "      <td>0.17</td>\n",
              "      <td>0.92</td>\n",
              "      <td>...</td>\n",
              "      <td>0</td>\n",
              "      <td>0</td>\n",
              "      <td>0</td>\n",
              "      <td>0</td>\n",
              "      <td>0</td>\n",
              "      <td>0</td>\n",
              "      <td>0</td>\n",
              "      <td>0</td>\n",
              "      <td>0</td>\n",
              "      <td>2022</td>\n",
              "    </tr>\n",
              "    <tr>\n",
              "      <th>218864</th>\n",
              "      <td>218864</td>\n",
              "      <td>29.50</td>\n",
              "      <td>4</td>\n",
              "      <td>1.97</td>\n",
              "      <td>0.30</td>\n",
              "      <td>0.41</td>\n",
              "      <td>1.45</td>\n",
              "      <td>0.35</td>\n",
              "      <td>0.17</td>\n",
              "      <td>1.07</td>\n",
              "      <td>...</td>\n",
              "      <td>0</td>\n",
              "      <td>0</td>\n",
              "      <td>0</td>\n",
              "      <td>0</td>\n",
              "      <td>0</td>\n",
              "      <td>0</td>\n",
              "      <td>0</td>\n",
              "      <td>0</td>\n",
              "      <td>0</td>\n",
              "      <td>2022</td>\n",
              "    </tr>\n",
              "    <tr>\n",
              "      <th>218865</th>\n",
              "      <td>218865</td>\n",
              "      <td>29.75</td>\n",
              "      <td>4</td>\n",
              "      <td>2.22</td>\n",
              "      <td>0.30</td>\n",
              "      <td>0.41</td>\n",
              "      <td>1.45</td>\n",
              "      <td>0.88</td>\n",
              "      <td>0.17</td>\n",
              "      <td>1.26</td>\n",
              "      <td>...</td>\n",
              "      <td>0</td>\n",
              "      <td>0</td>\n",
              "      <td>0</td>\n",
              "      <td>0</td>\n",
              "      <td>0</td>\n",
              "      <td>0</td>\n",
              "      <td>0</td>\n",
              "      <td>0</td>\n",
              "      <td>0</td>\n",
              "      <td>2022</td>\n",
              "    </tr>\n",
              "    <tr>\n",
              "      <th>218866</th>\n",
              "      <td>218866</td>\n",
              "      <td>29.75</td>\n",
              "      <td>4</td>\n",
              "      <td>2.71</td>\n",
              "      <td>0.54</td>\n",
              "      <td>0.41</td>\n",
              "      <td>1.81</td>\n",
              "      <td>0.88</td>\n",
              "      <td>0.37</td>\n",
              "      <td>1.42</td>\n",
              "      <td>...</td>\n",
              "      <td>0</td>\n",
              "      <td>0</td>\n",
              "      <td>0</td>\n",
              "      <td>0</td>\n",
              "      <td>0</td>\n",
              "      <td>0</td>\n",
              "      <td>0</td>\n",
              "      <td>0</td>\n",
              "      <td>0</td>\n",
              "      <td>2022</td>\n",
              "    </tr>\n",
              "    <tr>\n",
              "      <th>218867</th>\n",
              "      <td>218867</td>\n",
              "      <td>29.75</td>\n",
              "      <td>4</td>\n",
              "      <td>3.60</td>\n",
              "      <td>0.90</td>\n",
              "      <td>0.41</td>\n",
              "      <td>2.50</td>\n",
              "      <td>0.88</td>\n",
              "      <td>0.51</td>\n",
              "      <td>1.89</td>\n",
              "      <td>...</td>\n",
              "      <td>0</td>\n",
              "      <td>0</td>\n",
              "      <td>0</td>\n",
              "      <td>0</td>\n",
              "      <td>0</td>\n",
              "      <td>0</td>\n",
              "      <td>0</td>\n",
              "      <td>0</td>\n",
              "      <td>0</td>\n",
              "      <td>2022</td>\n",
              "    </tr>\n",
              "  </tbody>\n",
              "</table>\n",
              "<p>218868 rows × 76 columns</p>\n",
              "</div>\n",
              "      <button class=\"colab-df-convert\" onclick=\"convertToInteractive('df-8f958d0c-26ab-4f6d-93ed-52348b03a99e')\"\n",
              "              title=\"Convert this dataframe to an interactive table.\"\n",
              "              style=\"display:none;\">\n",
              "        \n",
              "  <svg xmlns=\"http://www.w3.org/2000/svg\" height=\"24px\"viewBox=\"0 0 24 24\"\n",
              "       width=\"24px\">\n",
              "    <path d=\"M0 0h24v24H0V0z\" fill=\"none\"/>\n",
              "    <path d=\"M18.56 5.44l.94 2.06.94-2.06 2.06-.94-2.06-.94-.94-2.06-.94 2.06-2.06.94zm-11 1L8.5 8.5l.94-2.06 2.06-.94-2.06-.94L8.5 2.5l-.94 2.06-2.06.94zm10 10l.94 2.06.94-2.06 2.06-.94-2.06-.94-.94-2.06-.94 2.06-2.06.94z\"/><path d=\"M17.41 7.96l-1.37-1.37c-.4-.4-.92-.59-1.43-.59-.52 0-1.04.2-1.43.59L10.3 9.45l-7.72 7.72c-.78.78-.78 2.05 0 2.83L4 21.41c.39.39.9.59 1.41.59.51 0 1.02-.2 1.41-.59l7.78-7.78 2.81-2.81c.8-.78.8-2.07 0-2.86zM5.41 20L4 18.59l7.72-7.72 1.47 1.35L5.41 20z\"/>\n",
              "  </svg>\n",
              "      </button>\n",
              "      \n",
              "  <style>\n",
              "    .colab-df-container {\n",
              "      display:flex;\n",
              "      flex-wrap:wrap;\n",
              "      gap: 12px;\n",
              "    }\n",
              "\n",
              "    .colab-df-convert {\n",
              "      background-color: #E8F0FE;\n",
              "      border: none;\n",
              "      border-radius: 50%;\n",
              "      cursor: pointer;\n",
              "      display: none;\n",
              "      fill: #1967D2;\n",
              "      height: 32px;\n",
              "      padding: 0 0 0 0;\n",
              "      width: 32px;\n",
              "    }\n",
              "\n",
              "    .colab-df-convert:hover {\n",
              "      background-color: #E2EBFA;\n",
              "      box-shadow: 0px 1px 2px rgba(60, 64, 67, 0.3), 0px 1px 3px 1px rgba(60, 64, 67, 0.15);\n",
              "      fill: #174EA6;\n",
              "    }\n",
              "\n",
              "    [theme=dark] .colab-df-convert {\n",
              "      background-color: #3B4455;\n",
              "      fill: #D2E3FC;\n",
              "    }\n",
              "\n",
              "    [theme=dark] .colab-df-convert:hover {\n",
              "      background-color: #434B5C;\n",
              "      box-shadow: 0px 1px 3px 1px rgba(0, 0, 0, 0.15);\n",
              "      filter: drop-shadow(0px 1px 2px rgba(0, 0, 0, 0.3));\n",
              "      fill: #FFFFFF;\n",
              "    }\n",
              "  </style>\n",
              "\n",
              "      <script>\n",
              "        const buttonEl =\n",
              "          document.querySelector('#df-8f958d0c-26ab-4f6d-93ed-52348b03a99e button.colab-df-convert');\n",
              "        buttonEl.style.display =\n",
              "          google.colab.kernel.accessAllowed ? 'block' : 'none';\n",
              "\n",
              "        async function convertToInteractive(key) {\n",
              "          const element = document.querySelector('#df-8f958d0c-26ab-4f6d-93ed-52348b03a99e');\n",
              "          const dataTable =\n",
              "            await google.colab.kernel.invokeFunction('convertToInteractive',\n",
              "                                                     [key], {});\n",
              "          if (!dataTable) return;\n",
              "\n",
              "          const docLinkHtml = 'Like what you see? Visit the ' +\n",
              "            '<a target=\"_blank\" href=https://colab.research.google.com/notebooks/data_table.ipynb>data table notebook</a>'\n",
              "            + ' to learn more about interactive tables.';\n",
              "          element.innerHTML = '';\n",
              "          dataTable['output_type'] = 'display_data';\n",
              "          await google.colab.output.renderOutput(dataTable, element);\n",
              "          const docLink = document.createElement('div');\n",
              "          docLink.innerHTML = docLinkHtml;\n",
              "          element.appendChild(docLink);\n",
              "        }\n",
              "      </script>\n",
              "    </div>\n",
              "  </div>\n",
              "  "
            ]
          },
          "metadata": {},
          "execution_count": 3
        }
      ],
      "source": [
        "dataset_features = pd.read_csv(\"/content/drive/MyDrive/dataset-processado/dataset_features.csv\")\n",
        "dataset_features"
      ]
    },
    {
      "cell_type": "markdown",
      "metadata": {
        "id": "3x2P3Ztx2lWe"
      },
      "source": [
        "## 2. Seleção das Features e Labels"
      ]
    },
    {
      "cell_type": "markdown",
      "metadata": {
        "id": "V6SlWGkYIL0m"
      },
      "source": [
        "Nessa parte definimos as varíaveis dependentes (y) e variáveis indepentes (x) que foram utilizadas nos modelos de predição. "
      ]
    },
    {
      "cell_type": "code",
      "execution_count": null,
      "metadata": {
        "id": "g18U3AUxA2hM",
        "colab": {
          "base_uri": "https://localhost:8080/"
        },
        "outputId": "91c9031f-c56e-43b0-8dd4-3f8f98574b3e"
      },
      "outputs": [
        {
          "output_type": "stream",
          "name": "stderr",
          "text": [
            "/usr/local/lib/python3.7/dist-packages/ipykernel_launcher.py:41: SettingWithCopyWarning: \n",
            "A value is trying to be set on a copy of a slice from a DataFrame.\n",
            "Try using .loc[row_indexer,col_indexer] = value instead\n",
            "\n",
            "See the caveats in the documentation: https://pandas.pydata.org/pandas-docs/stable/user_guide/indexing.html#returning-a-view-versus-a-copy\n"
          ]
        }
      ],
      "source": [
        "from sklearn.model_selection import train_test_split\n",
        "\n",
        "# features a serem utilizadas\n",
        "X = dataset_features[['Hora Início','Dia da Semana','Mês','Dia', 'Feriado', 'Categoria_CARROS E MOTORES', 'Categoria_CULINARIO', 'Categoria_DEBATE',  \n",
        "       'Categoria_DOCUMENTARIO', 'Categoria_EDUCATIVO', 'Categoria_ENTREVISTA',\n",
        "       'Categoria_ESPORTE', 'Categoria_FEMININO', 'Categoria_FILME',\n",
        "       'Categoria_FUTEBOL', 'Categoria_GAME SHOW', 'Categoria_HUMORISTICO',\n",
        "       'Categoria_JORNALISMO', 'Categoria_MINISSERIE', 'Categoria_MUSICAL',\n",
        "       'Categoria_NOVELA', 'Categoria_OUTROS', 'Categoria_POLITICO',\n",
        "       'Categoria_PREMIACAO', 'Categoria_REALITY SHOW', 'Categoria_RELIGIOSO',\n",
        "       'Categoria_REPORTAGEM', 'Categoria_RURAL', 'Categoria_SERIES',\n",
        "       'Categoria_SHOW', 'Categoria_SORTEIO', 'Categoria_TELE VENDAS']]\n",
        "\n",
        "X_sem_categoria = dataset_features[['Hora Início','Dia da Semana','Mês','Dia', 'Feriado']]\n",
        "\n",
        "X_somente_categoria = dataset_features[['Categoria_CARROS E MOTORES', 'Categoria_CULINARIO', 'Categoria_DEBATE',  \n",
        "       'Categoria_DOCUMENTARIO', 'Categoria_EDUCATIVO', 'Categoria_ENTREVISTA',\n",
        "       'Categoria_ESPORTE', 'Categoria_FEMININO', 'Categoria_FILME',\n",
        "       'Categoria_FUTEBOL', 'Categoria_GAME SHOW', 'Categoria_HUMORISTICO',\n",
        "       'Categoria_JORNALISMO', 'Categoria_MINISSERIE', 'Categoria_MUSICAL',\n",
        "       'Categoria_NOVELA', 'Categoria_OUTROS', 'Categoria_POLITICO',\n",
        "       'Categoria_PREMIACAO', 'Categoria_REALITY SHOW', 'Categoria_RELIGIOSO',\n",
        "       'Categoria_REPORTAGEM', 'Categoria_RURAL', 'Categoria_SERIES',\n",
        "       'Categoria_SHOW', 'Categoria_SORTEIO', 'Categoria_TELE VENDAS']]\n",
        "\n",
        "\n",
        "# labels a serem utilizadas\n",
        "y_rat = dataset_features[['Total Domicílios | Rat%', 'AB | Rat%',\n",
        "       'C1 | Rat%', 'C2 | Rat%', 'DE | Rat%', 'Masculino | Rat%',\n",
        "       'Feminino | Rat%', '4-11 anos | Rat%', '12-17 anos | Rat%',\n",
        "       '18-24 anos | Rat%', '25-34 anos | Rat%', '35-49 anos | Rat%',\n",
        "       '50-59 anos | Rat%', '60+ anos | Rat%']]\n",
        "\n",
        "# TODO: Change to fid and share columns\n",
        "y_fid = dataset_features[[\n",
        "       'Total Indivíduos | Fid%', 'AB | Fid%', 'C1 | Fid%', 'C2 | Fid%',\n",
        "       'DE | Fid%', 'Masculino | Fid%', 'Feminino | Fid%', '4-11 anos | Fid%',\n",
        "       '12-17 anos | Fid%', '18-24 anos | Fid%', '25-34 anos | Fid%',\n",
        "       '35-49 anos | Fid%', '50-59 anos | Fid%', '60+ anos | Fid%']]\n",
        "\n",
        "y_fid['Total Indivíduos | Fid%'] = y_fid['Total Indivíduos | Fid%'].str.replace(',','.').astype('float64')\n",
        "\n",
        "y_share = dataset_features[['Total Domicílios | Shr%', 'AB | Shr%', 'C1 | Shr%', 'C2 | Shr%',\n",
        "       'DE | Shr%', 'Masculino | Shr%', 'Feminino | Shr%', '4-11 anos | Shr%',\n",
        "       '12-17 anos | Shr%', '18-24 anos | Shr%', '25-34 anos | Shr%',\n",
        "       '35-49 anos | Shr%', '50-59 anos | Shr%', '60+ anos | Shr%']]"
      ]
    },
    {
      "cell_type": "markdown",
      "metadata": {
        "id": "hj8E7_vz2vNE"
      },
      "source": [
        "### 2.1 Separação entre features/labels de teste e features/labels de validação"
      ]
    },
    {
      "cell_type": "markdown",
      "metadata": {
        "id": "L5Ow9bNGIxR6"
      },
      "source": []
    },
    {
      "cell_type": "code",
      "execution_count": null,
      "metadata": {
        "id": "esT1KsT128Ey"
      },
      "outputs": [],
      "source": [
        "X_train, X_test, y_train_rat, y_test_rat = train_test_split(X,y_rat, random_state=42)\n",
        "_, _, y_train_share, y_test_share = train_test_split(X,y_share, random_state=42)\n",
        "_, _, y_train_fid, y_test_fid = train_test_split(X,y_fid, random_state=42)"
      ]
    },
    {
      "cell_type": "markdown",
      "source": [
        "### 2.1.1 Normalização das Features"
      ],
      "metadata": {
        "id": "E6KVPjjqLsu2"
      }
    },
    {
      "cell_type": "code",
      "source": [
        "from sklearn import preprocessing\n",
        "scaler = preprocessing.StandardScaler().fit(X_train)\n",
        "\n",
        "X_train = scaler.transform(X_train)\n",
        "X_test = scaler.transform(X_test)"
      ],
      "metadata": {
        "id": "t-AkFf4YLxtH"
      },
      "execution_count": null,
      "outputs": []
    },
    {
      "cell_type": "markdown",
      "metadata": {
        "id": "U3ZZKqzSMRZT"
      },
      "source": [
        "## 3. Modelos de Regressão\n",
        "Import das bibliotecas necessárias"
      ]
    },
    {
      "cell_type": "code",
      "execution_count": null,
      "metadata": {
        "id": "oxoVn8k1MX0r"
      },
      "outputs": [],
      "source": [
        "# Modelos\n",
        "from sklearn.linear_model import LinearRegression\n",
        "from sklearn.neighbors import KNeighborsRegressor\n",
        "from sklearn.ensemble import RandomForestRegressor\n",
        "from sklearn.neural_network import MLPRegressor\n",
        "from lightgbm import LGBMRegressor\n",
        "from sklearn import neighbors\n",
        "\n",
        "# Métricas de Avaliação\n",
        "from sklearn.metrics import r2_score, mean_squared_error"
      ]
    },
    {
      "cell_type": "markdown",
      "source": [
        "## 4. KNN Regressor "
      ],
      "metadata": {
        "id": "3tGZ6e2J91L1"
      }
    },
    {
      "cell_type": "code",
      "source": [
        "modeloKNN_rat = KNeighborsRegressor(n_neighbors=3)\n",
        "modeloKNN_share = KNeighborsRegressor(n_neighbors=3)\n",
        "modeloKNN_fid = KNeighborsRegressor(n_neighbors=3)\n",
        "\n",
        "\n",
        "KNN_rat = modeloKNN_rat.fit(X_train,y_train_rat)\n",
        "KNN_share = modeloKNN_share.fit(X_train,y_train_share)\n",
        "KNN_fid = modeloKNN_fid.fit(X_train,y_train_fid)\n",
        "\n",
        "\n",
        "y_pred_knn_train_rat = KNN_rat.predict(X_train)\n",
        "y_pred_knn_test_rat = KNN_rat.predict(X_test)\n",
        "\n",
        "y_pred_knn_train_share = KNN_share.predict(X_train)\n",
        "y_pred_knn_test_share = KNN_share.predict(X_test)\n",
        "\n",
        "y_pred_knn_train_fid = KNN_fid.predict(X_train)\n",
        "y_pred_knn_test_fid = KNN_fid.predict(X_test)"
      ],
      "metadata": {
        "id": "igoL7UMt90ff"
      },
      "execution_count": null,
      "outputs": []
    },
    {
      "cell_type": "code",
      "source": [
        "# Rat Scores\n",
        "knn_r2_score_train_rat = r2_score(y_train_rat, y_pred_knn_train_rat)\n",
        "knn_r2_score_test_rat = r2_score(y_test_rat, y_pred_knn_test_rat)\n",
        "\n",
        "knn_mean_train_score_rat = mean_squared_error(y_train_rat, y_pred_knn_train_rat)\n",
        "knn_mean_test_score_rat = mean_squared_error(y_test_rat, y_pred_knn_test_rat)\n",
        "\n",
        "# Share Scores\n",
        "knn_r2_score_train_share = r2_score(y_train_share, y_pred_knn_train_share)\n",
        "knn_r2_score_test_share = r2_score(y_test_share, y_pred_knn_test_share)\n",
        "\n",
        "knn_mean_train_score_share = mean_squared_error(y_train_share, y_pred_knn_train_share)\n",
        "knn_mean_test_score_share = mean_squared_error(y_test_share, y_pred_knn_test_share)\n",
        "\n",
        "\n",
        "# Fid Scores\n",
        "knn_r2_score_train_fid = r2_score(y_train_fid, y_pred_knn_train_fid)\n",
        "knn_r2_score_test_fid = r2_score(y_test_fid, y_pred_knn_test_fid)\n",
        "\n",
        "knn_mean_train_score_fid = mean_squared_error(y_train_fid, y_pred_knn_train_fid)\n",
        "knn_mean_test_score_fid = mean_squared_error(y_test_fid, y_pred_knn_test_fid)\n",
        "\n",
        "\n",
        "print(\"\\n\\n## Rat %\")\n",
        "print('Precisão (treino): ', knn_r2_score_train_rat)\n",
        "print('Mean Squared Error (Treino): ', knn_mean_train_score_rat)\n",
        "print('Precisão (teste): ', knn_r2_score_test_rat)\n",
        "print('Mean Squared Error (teste): ', knn_mean_test_score_rat)\n",
        "\n",
        "print(\"\\n\\n## share %\")\n",
        "print('Precisão (treino): ', knn_r2_score_train_share)\n",
        "print('Mean Squared Error (Treino): ', knn_mean_train_score_share)\n",
        "print('Precisão (teste): ', knn_r2_score_test_share)\n",
        "print('Mean Squared Error (teste): ', knn_mean_test_score_share)\n",
        "\n",
        "print(\"\\n\\n## fid %\")\n",
        "print('Precisão (treino): ', knn_r2_score_train_fid)\n",
        "print('Mean Squared Error (Treino): ', knn_mean_train_score_fid)\n",
        "print('Precisão (teste): ', knn_r2_score_test_fid)\n",
        "print('Mean Squared Error (teste): ', knn_mean_test_score_fid)"
      ],
      "metadata": {
        "id": "gNPvoxYH92od",
        "colab": {
          "base_uri": "https://localhost:8080/"
        },
        "outputId": "b43a7e06-fbd2-4b47-dead-23119da9ff75"
      },
      "execution_count": null,
      "outputs": [
        {
          "output_type": "stream",
          "name": "stdout",
          "text": [
            "\n",
            "\n",
            "## Rat %\n",
            "Precisão (treino):  0.9798722598611685\n",
            "Mean Squared Error (Treino):  0.2932986074571228\n",
            "Precisão (teste):  0.9498359897084659\n",
            "Mean Squared Error (teste):  0.7345244470030492\n",
            "\n",
            "\n",
            "## share %\n",
            "Precisão (treino):  0.9516383594932091\n",
            "Mean Squared Error (Treino):  16.3027238062945\n",
            "Precisão (teste):  0.8837543918297996\n",
            "Mean Squared Error (teste):  38.96186036168488\n",
            "\n",
            "\n",
            "## fid %\n",
            "Precisão (treino):  0.8147918904068929\n",
            "Mean Squared Error (Treino):  83.64873014976703\n",
            "Precisão (teste):  0.5962552087799321\n",
            "Mean Squared Error (teste):  186.0792695877303\n"
          ]
        }
      ]
    },
    {
      "cell_type": "markdown",
      "source": [
        "### 4.1 Teste de hiperparâmetros com GridSearch\n",
        " "
      ],
      "metadata": {
        "id": "OLgK1IVpDrvs"
      }
    },
    {
      "cell_type": "markdown",
      "source": [
        "#### 4.1.1 N-neighbors"
      ],
      "metadata": {
        "id": "qmmC9ywqAZrC"
      }
    },
    {
      "cell_type": "code",
      "source": [
        "from sklearn.model_selection import GridSearchCV\n",
        "model = KNeighborsRegressor()\n",
        "\n",
        "parameters = {'n_neighbors': range(2,100)} \n",
        "modelGS = GridSearchCV(model, parameters)\n",
        "\n",
        "modelGS.fit(X_train, y_train_rat)\n",
        "modelGS.best_params_"
      ],
      "metadata": {
        "id": "o8Ob5qD1OOPV"
      },
      "execution_count": null,
      "outputs": []
    },
    {
      "cell_type": "markdown",
      "source": [
        "#### 4.1.2 Weights"
      ],
      "metadata": {
        "id": "id64fCILAiXK"
      }
    },
    {
      "cell_type": "code",
      "source": [
        "from sklearn.model_selection import GridSearchCV\n",
        "model = KNeighborsRegressor()\n",
        "\n",
        "parameters = {'weights': ['uniform', 'distance']}\n",
        "modelGS = GridSearchCV(model, parameters)\n",
        "\n",
        "modelGS.fit(X_train, y_train_rat)\n",
        "modelGS.best_params_"
      ],
      "metadata": {
        "id": "pgvQn-YTKfpy"
      },
      "execution_count": null,
      "outputs": []
    },
    {
      "cell_type": "markdown",
      "source": [
        "#### 4.1.3 Algorithm"
      ],
      "metadata": {
        "id": "TzlJRYZbAwXh"
      }
    },
    {
      "cell_type": "code",
      "source": [
        "model = KNeighborsRegressor()\n",
        "\n",
        "parameters = {'algorithm': ['brute', 'kd_tree', 'ball_tree']}\n",
        "modelGS = GridSearchCV(model, parameters)\n",
        "\n",
        "modelGS.fit(X_train, y_train_rat)\n",
        "modelGS.best_params_\n"
      ],
      "metadata": {
        "id": "YDkBFWisRI1s"
      },
      "execution_count": null,
      "outputs": []
    },
    {
      "cell_type": "markdown",
      "source": [
        "### 4.2 Teste de hiperparâmetros com RandomSearch"
      ],
      "metadata": {
        "id": "_o9LgwJtN55L"
      }
    },
    {
      "cell_type": "code",
      "source": [
        "from sklearn.model_selection import RandomizedSearchCV\n",
        "model = KNeighborsRegressor()\n",
        "\n",
        "parameters = {'n_neighbors': range(2,100), 'weights': ['uniform', 'distance']}\n",
        "modelRS = RandomizedSearchCV(model, parameters)\n",
        "\n",
        "modelRS.fit(X_train, y_train_rat)\n",
        "modelRS.fit(X_train, y_train_rat)\n",
        "modelRS.best_params_"
      ],
      "metadata": {
        "id": "Iy0W62BeN-bq"
      },
      "execution_count": null,
      "outputs": []
    },
    {
      "cell_type": "markdown",
      "source": [
        "## Teste do KNN com os melhores valores para hiperparâmetros"
      ],
      "metadata": {
        "id": "z7LP3zlOBgTd"
      }
    },
    {
      "cell_type": "code",
      "source": [
        "modeloKNN_rat = KNeighborsRegressor(n_neighbors=3, weights='distance', algorithm='brute')\n",
        "modeloKNN_share = KNeighborsRegressor(n_neighbors=3, weights='distance', algorithm='brute')\n",
        "modeloKNN_fid = KNeighborsRegressor(n_neighbors=3, weights='distance', algorithm='brute')\n",
        "\n",
        "\n",
        "KNN_rat = modeloKNN_rat.fit(X_train,y_train_rat)\n",
        "KNN_share = modeloKNN_share.fit(X_train,y_train_share)\n",
        "KNN_fid = modeloKNN_fid.fit(X_train,y_train_fid)\n",
        "\n",
        "\n",
        "y_pred_knn_train_rat = KNN_rat.predict(X_train)\n",
        "y_pred_knn_test_rat = KNN_rat.predict(X_test)\n",
        "\n",
        "y_pred_knn_train_share = KNN_share.predict(X_train)\n",
        "y_pred_knn_test_share = KNN_share.predict(X_test)\n",
        "\n",
        "y_pred_knn_train_fid = KNN_fid.predict(X_train)\n",
        "y_pred_knn_test_fid = KNN_fid.predict(X_test)"
      ],
      "metadata": {
        "id": "ORatT7rHBurk"
      },
      "execution_count": null,
      "outputs": []
    },
    {
      "cell_type": "code",
      "source": [
        "# Rat Scores\n",
        "knn_r2_score_train_rat = r2_score(y_train_rat, y_pred_knn_train_rat)\n",
        "knn_r2_score_test_rat = r2_score(y_test_rat, y_pred_knn_test_rat)\n",
        "\n",
        "knn_mean_train_score_rat = mean_squared_error(y_train_rat, y_pred_knn_train_rat)\n",
        "knn_mean_test_score_rat = mean_squared_error(y_test_rat, y_pred_knn_test_rat)\n",
        "\n",
        "# Share Scores\n",
        "knn_r2_score_train_share = r2_score(y_train_share, y_pred_knn_train_share)\n",
        "knn_r2_score_test_share = r2_score(y_test_share, y_pred_knn_test_share)\n",
        "\n",
        "knn_mean_train_score_share = mean_squared_error(y_train_share, y_pred_knn_train_share)\n",
        "knn_mean_test_score_share = mean_squared_error(y_test_share, y_pred_knn_test_share)\n",
        "\n",
        "\n",
        "# Fid Scores\n",
        "knn_r2_score_train_fid = r2_score(y_train_fid, y_pred_knn_train_fid)\n",
        "knn_r2_score_test_fid = r2_score(y_test_fid, y_pred_knn_test_fid)\n",
        "\n",
        "knn_mean_train_score_fid = mean_squared_error(y_train_fid, y_pred_knn_train_fid)\n",
        "knn_mean_test_score_fid = mean_squared_error(y_test_fid, y_pred_knn_test_fid)\n",
        "\n",
        "\n",
        "print(\"\\n\\n## Rat %\")\n",
        "print('Precisão (treino): ', knn_r2_score_train_rat)\n",
        "print('Mean Squared Error (Treino): ', knn_mean_train_score_rat)\n",
        "print('Precisão (teste): ', knn_r2_score_test_rat)\n",
        "print('Mean Squared Error (teste): ', knn_mean_test_score_rat)\n",
        "\n",
        "print(\"\\n\\n## share %\")\n",
        "print('Precisão (treino): ', knn_r2_score_train_share)\n",
        "print('Mean Squared Error (Treino): ', knn_mean_train_score_share)\n",
        "print('Precisão (teste): ', knn_r2_score_test_share)\n",
        "print('Mean Squared Error (teste): ', knn_mean_test_score_share)\n",
        "\n",
        "print(\"\\n\\n## fid %\")\n",
        "print('Precisão (treino): ', knn_r2_score_train_fid)\n",
        "print('Mean Squared Error (Treino): ', knn_mean_train_score_fid)\n",
        "print('Precisão (teste): ', knn_r2_score_test_fid)\n",
        "print('Mean Squared Error (teste): ', knn_mean_test_score_fid)"
      ],
      "metadata": {
        "id": "1qWohy6lB1mJ"
      },
      "execution_count": null,
      "outputs": []
    }
  ]
}