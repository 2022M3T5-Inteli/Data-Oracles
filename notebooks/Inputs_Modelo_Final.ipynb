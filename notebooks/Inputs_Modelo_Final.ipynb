{
  "nbformat": 4,
  "nbformat_minor": 0,
  "metadata": {
    "colab": {
      "provenance": []
    },
    "kernelspec": {
      "name": "python3",
      "display_name": "Python 3"
    },
    "language_info": {
      "name": "python"
    }
  },
  "cells": [
    {
      "cell_type": "code",
      "source": [
        "from google.colab import drive\n",
        "drive.mount('/content/drive')"
      ],
      "metadata": {
        "colab": {
          "base_uri": "https://localhost:8080/"
        },
        "id": "Z-C42NGUNOMz",
        "outputId": "431889f2-63b9-43b3-cd94-a8e84614cf05"
      },
      "execution_count": 59,
      "outputs": [
        {
          "output_type": "stream",
          "name": "stdout",
          "text": [
            "Drive already mounted at /content/drive; to attempt to forcibly remount, call drive.mount(\"/content/drive\", force_remount=True).\n"
          ]
        }
      ]
    },
    {
      "cell_type": "code",
      "execution_count": 60,
      "metadata": {
        "id": "03GoFwETyzut"
      },
      "outputs": [],
      "source": [
        "import pickle\n",
        "modelo_rat_carregado = pickle.load(open('/content/drive/MyDrive/Input/modelo_rat_finalizado.txt', 'rb'))\n",
        "modelo_share_carregado = pickle.load(open('/content/drive/MyDrive/Input/modelo_share_finalizado.txt', 'rb'))\n",
        "modelo_fid_carregado = pickle.load(open('/content/drive/MyDrive/Input/modelo_fid_finalizado.txt', 'rb'))\n",
        "\n"
      ]
    },
    {
      "cell_type": "markdown",
      "source": [
        "### Seleção de inputs"
      ],
      "metadata": {
        "id": "s5YO0B2xNqpH"
      }
    },
    {
      "cell_type": "code",
      "source": [
        "hora = 6.0 #@param {type:\"number\"}\n",
        "dia_semana = 'Segunda' #@param [\"Segunda\", \"Terça\", \"Quarta\", \"Quinta\", \"Sexta\", \"Sábado\", \"Domingo\"]\n",
        "mes = 1 #@param {type:\"number\"}\n",
        "dia_mes = 1 #@param {type:\"number\"}\n",
        "feriado = False #@param {type:\"boolean\"}\n",
        "categoria = 'Categoria_OUTROS' #@param ['Categoria_CARROS E MOTORES','Categoria_CULINARIO','Categoria_DEBATE', 'Categoria_DOCUMENTARIO','Categoria_EDUCATIVO','Categoria_ENTREVISTA', 'Categoria_ESPORTE','Categoria_FEMININO','Categoria_FILME','Categoria_FUTEBOL', 'Categoria_GAME SHOW','Categoria_HUMORISTICO','Categoria_JORNALISMO', 'Categoria_MINISSERIE','Categoria_MUSICAL','Categoria_NOVELA','Categoria_OUTROS', 'Categoria_POLITICO','Categoria_PREMIACAO','Categoria_REALITY SHOW', 'Categoria_RELIGIOSO','Categoria_REPORTAGEM','Categoria_RURAL','Categoria_SERIES', 'Categoria_SHOW','Categoria_SORTEIO','Categoria_TELE VENDAS']"
      ],
      "metadata": {
        "id": "_8GnMIxiNuMC"
      },
      "execution_count": 61,
      "outputs": []
    },
    {
      "cell_type": "markdown",
      "source": [
        "###### Transformando os dias da semana em números"
      ],
      "metadata": {
        "id": "bQHgDDG3OatO"
      }
    },
    {
      "cell_type": "code",
      "source": [
        "encoding_semana = {'Segunda': 1, 'Terça': 2, 'Quarta': 3, 'Quinta': 4, 'Sexta': 5, \n",
        "                 'Sábado': 6, 'Domingo': 7}\n",
        "dia_semana = encoding_semana[dia_semana]"
      ],
      "metadata": {
        "id": "YHErA2isOUip"
      },
      "execution_count": 62,
      "outputs": []
    },
    {
      "cell_type": "markdown",
      "source": [
        "###### Criação dos dicionários"
      ],
      "metadata": {
        "id": "gKIGdfN2OfoN"
      }
    },
    {
      "cell_type": "code",
      "source": [
        "dicionario = {\n",
        "    \"Hora Início\": hora,\n",
        "    \"Dia da Semana\": dia_semana,\n",
        "    \"Mês\": mes,\n",
        "    \"Dia\": dia_mes,\n",
        "    \"Feriado\": feriado,\n",
        "    \"Categoria_CARROS E MOTORES\":0,\n",
        "    \"Categoria_CULINARIO\":0,\n",
        "    \"Categoria_DEBATE\":0,\n",
        "    \"Categoria_DOCUMENTARIO\":0,\n",
        "    \"Categoria_EDUCATIVO\":0,\n",
        "    \"Categoria_ENTREVISTA\":0,\n",
        "    \"Categoria_ESPORTE\":0,\n",
        "    \"Categoria_FEMININO\":0,          \n",
        "    \"Categoria_FILME\":0,                \n",
        "    \"Categoria_FUTEBOL\":0,             \n",
        "    \"Categoria_GAME SHOW\":0,            \n",
        "    \"Categoria_HUMORISTICO\":0,          \n",
        "    \"Categoria_JORNALISMO\":0,           \n",
        "    \"Categoria_MINISSERIE\":0,           \n",
        "    \"Categoria_MUSICAL\":0,             \n",
        "    \"Categoria_NOVELA\":0,               \n",
        "    \"Categoria_OUTROS\":0,               \n",
        "    \"Categoria_POLITICO\":0,             \n",
        "    \"Categoria_PREMIACAO\":0,            \n",
        "    \"Categoria_REALITY SHOW\":0,         \n",
        "    \"Categoria_RELIGIOSO\":0,            \n",
        "    \"Categoria_REPORTAGEM\":0,       \n",
        "    \"Categoria_RURAL\":0,                \n",
        "    \"Categoria_SERIES\":0,               \n",
        "    \"Categoria_SHOW\":0,                 \n",
        "    \"Categoria_SORTEIO\":0,              \n",
        "    \"Categoria_TELE VENDAS\":0,          \n",
        "}\n",
        "dicionario[categoria] = 1"
      ],
      "metadata": {
        "id": "TXejCqO8OiNs"
      },
      "execution_count": 63,
      "outputs": []
    },
    {
      "cell_type": "code",
      "source": [
        "input = list(dicionario.values())\n",
        "## Rat\n",
        "modelo_rat_carregado.predict([input, input])\n",
        "\n",
        "## Share\n",
        "modelo_share_carregado.predict([input, input])\n",
        "\n",
        "## Fid\n",
        "modelo_fid_carregado.predict([input, input])"
      ],
      "metadata": {
        "colab": {
          "base_uri": "https://localhost:8080/",
          "height": 415
        },
        "id": "o-K_e1mBQBnJ",
        "outputId": "5e412dd0-b186-4638-a7fb-2eb040e8befb"
      },
      "execution_count": 64,
      "outputs": [
        {
          "output_type": "error",
          "ename": "NotFittedError",
          "evalue": "ignored",
          "traceback": [
            "\u001b[0;31m---------------------------------------------------------------------------\u001b[0m",
            "\u001b[0;31mNotFittedError\u001b[0m                            Traceback (most recent call last)",
            "\u001b[0;32m<ipython-input-64-8666f6d50b28>\u001b[0m in \u001b[0;36m<module>\u001b[0;34m\u001b[0m\n\u001b[1;32m      1\u001b[0m \u001b[0minput\u001b[0m \u001b[0;34m=\u001b[0m \u001b[0mlist\u001b[0m\u001b[0;34m(\u001b[0m\u001b[0mdicionario\u001b[0m\u001b[0;34m.\u001b[0m\u001b[0mvalues\u001b[0m\u001b[0;34m(\u001b[0m\u001b[0;34m)\u001b[0m\u001b[0;34m)\u001b[0m\u001b[0;34m\u001b[0m\u001b[0;34m\u001b[0m\u001b[0m\n\u001b[1;32m      2\u001b[0m \u001b[0;31m## Rat\u001b[0m\u001b[0;34m\u001b[0m\u001b[0;34m\u001b[0m\u001b[0;34m\u001b[0m\u001b[0m\n\u001b[0;32m----> 3\u001b[0;31m \u001b[0mmodelo_rat_carregado\u001b[0m\u001b[0;34m.\u001b[0m\u001b[0mpredict\u001b[0m\u001b[0;34m(\u001b[0m\u001b[0;34m[\u001b[0m\u001b[0minput\u001b[0m\u001b[0;34m,\u001b[0m \u001b[0minput\u001b[0m\u001b[0;34m]\u001b[0m\u001b[0;34m)\u001b[0m\u001b[0;34m\u001b[0m\u001b[0;34m\u001b[0m\u001b[0m\n\u001b[0m\u001b[1;32m      4\u001b[0m \u001b[0;34m\u001b[0m\u001b[0m\n\u001b[1;32m      5\u001b[0m \u001b[0;31m## Share\u001b[0m\u001b[0;34m\u001b[0m\u001b[0;34m\u001b[0m\u001b[0;34m\u001b[0m\u001b[0m\n",
            "\u001b[0;32m/usr/local/lib/python3.7/dist-packages/sklearn/multioutput.py\u001b[0m in \u001b[0;36mpredict\u001b[0;34m(self, X)\u001b[0m\n\u001b[1;32m    228\u001b[0m             \u001b[0mNote\u001b[0m\u001b[0;34m:\u001b[0m \u001b[0mSeparate\u001b[0m \u001b[0mmodels\u001b[0m \u001b[0mare\u001b[0m \u001b[0mgenerated\u001b[0m \u001b[0;32mfor\u001b[0m \u001b[0meach\u001b[0m \u001b[0mpredictor\u001b[0m\u001b[0;34m.\u001b[0m\u001b[0;34m\u001b[0m\u001b[0;34m\u001b[0m\u001b[0m\n\u001b[1;32m    229\u001b[0m         \"\"\"\n\u001b[0;32m--> 230\u001b[0;31m         \u001b[0mcheck_is_fitted\u001b[0m\u001b[0;34m(\u001b[0m\u001b[0mself\u001b[0m\u001b[0;34m)\u001b[0m\u001b[0;34m\u001b[0m\u001b[0;34m\u001b[0m\u001b[0m\n\u001b[0m\u001b[1;32m    231\u001b[0m         \u001b[0;32mif\u001b[0m \u001b[0;32mnot\u001b[0m \u001b[0mhasattr\u001b[0m\u001b[0;34m(\u001b[0m\u001b[0mself\u001b[0m\u001b[0;34m.\u001b[0m\u001b[0mestimators_\u001b[0m\u001b[0;34m[\u001b[0m\u001b[0;36m0\u001b[0m\u001b[0;34m]\u001b[0m\u001b[0;34m,\u001b[0m \u001b[0;34m\"predict\"\u001b[0m\u001b[0;34m)\u001b[0m\u001b[0;34m:\u001b[0m\u001b[0;34m\u001b[0m\u001b[0;34m\u001b[0m\u001b[0m\n\u001b[1;32m    232\u001b[0m             \u001b[0;32mraise\u001b[0m \u001b[0mValueError\u001b[0m\u001b[0;34m(\u001b[0m\u001b[0;34m\"The base estimator should implement a predict method\"\u001b[0m\u001b[0;34m)\u001b[0m\u001b[0;34m\u001b[0m\u001b[0;34m\u001b[0m\u001b[0m\n",
            "\u001b[0;32m/usr/local/lib/python3.7/dist-packages/sklearn/utils/validation.py\u001b[0m in \u001b[0;36mcheck_is_fitted\u001b[0;34m(estimator, attributes, msg, all_or_any)\u001b[0m\n\u001b[1;32m   1220\u001b[0m \u001b[0;34m\u001b[0m\u001b[0m\n\u001b[1;32m   1221\u001b[0m     \u001b[0;32mif\u001b[0m \u001b[0;32mnot\u001b[0m \u001b[0mfitted\u001b[0m\u001b[0;34m:\u001b[0m\u001b[0;34m\u001b[0m\u001b[0;34m\u001b[0m\u001b[0m\n\u001b[0;32m-> 1222\u001b[0;31m         \u001b[0;32mraise\u001b[0m \u001b[0mNotFittedError\u001b[0m\u001b[0;34m(\u001b[0m\u001b[0mmsg\u001b[0m \u001b[0;34m%\u001b[0m \u001b[0;34m{\u001b[0m\u001b[0;34m\"name\"\u001b[0m\u001b[0;34m:\u001b[0m \u001b[0mtype\u001b[0m\u001b[0;34m(\u001b[0m\u001b[0mestimator\u001b[0m\u001b[0;34m)\u001b[0m\u001b[0;34m.\u001b[0m\u001b[0m__name__\u001b[0m\u001b[0;34m}\u001b[0m\u001b[0;34m)\u001b[0m\u001b[0;34m\u001b[0m\u001b[0;34m\u001b[0m\u001b[0m\n\u001b[0m\u001b[1;32m   1223\u001b[0m \u001b[0;34m\u001b[0m\u001b[0m\n\u001b[1;32m   1224\u001b[0m \u001b[0;34m\u001b[0m\u001b[0m\n",
            "\u001b[0;31mNotFittedError\u001b[0m: This MultiOutputRegressor instance is not fitted yet. Call 'fit' with appropriate arguments before using this estimator."
          ]
        }
      ]
    }
  ]
}