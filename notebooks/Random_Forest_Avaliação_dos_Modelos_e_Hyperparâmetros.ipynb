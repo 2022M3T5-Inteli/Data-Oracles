{
  "nbformat": 4,
  "nbformat_minor": 0,
  "metadata": {
    "colab": {
      "provenance": []
    },
    "kernelspec": {
      "name": "python3",
      "display_name": "Python 3"
    },
    "language_info": {
      "name": "python"
    }
  },
  "cells": [
    {
      "cell_type": "code",
      "source": [
        "import pandas as pd\n",
        "import numpy as np"
      ],
      "metadata": {
        "id": "OH1I0eyc4jny"
      },
      "execution_count": null,
      "outputs": []
    },
    {
      "cell_type": "markdown",
      "source": [
        "### 1. Carregamento dos Dados"
      ],
      "metadata": {
        "id": "bk8IY0al4dSE"
      }
    },
    {
      "cell_type": "code",
      "execution_count": null,
      "metadata": {
        "colab": {
          "base_uri": "https://localhost:8080/",
          "height": 522
        },
        "id": "kUCgtsWh1yp3",
        "outputId": "5f262071-3938-4de5-9549-1193847884f2"
      },
      "outputs": [
        {
          "output_type": "execute_result",
          "data": {
            "text/plain": [
              "        Unnamed: 0  Hora Início  Dia da Semana  Total Domicílios | Rat%  \\\n",
              "0                0         6.00              1                     4.27   \n",
              "1                1         6.00              1                     4.89   \n",
              "2                2         6.00              1                     5.74   \n",
              "3                3         6.25              1                     6.55   \n",
              "4                4         6.25              1                     7.27   \n",
              "...            ...          ...            ...                      ...   \n",
              "218863      218863        29.50              4                     1.67   \n",
              "218864      218864        29.50              4                     1.97   \n",
              "218865      218865        29.75              4                     2.22   \n",
              "218866      218866        29.75              4                     2.71   \n",
              "218867      218867        29.75              4                     3.60   \n",
              "\n",
              "        AB | Rat%  C1 | Rat%  C2 | Rat%  DE | Rat%  Masculino | Rat%  \\\n",
              "0            2.40       0.31       0.82       5.23              1.65   \n",
              "1            3.02       0.51       1.08       5.23              1.89   \n",
              "2            3.13       1.53       1.22       5.23              1.97   \n",
              "3            3.06       1.86       1.48       6.46              1.92   \n",
              "4            3.49       2.18       1.48       6.46              2.23   \n",
              "...           ...        ...        ...        ...               ...   \n",
              "218863       0.30       0.41       1.03       0.53              0.17   \n",
              "218864       0.30       0.41       1.45       0.35              0.17   \n",
              "218865       0.30       0.41       1.45       0.88              0.17   \n",
              "218866       0.54       0.41       1.81       0.88              0.37   \n",
              "218867       0.90       0.41       2.50       0.88              0.51   \n",
              "\n",
              "        Feminino | Rat%  ...  Categoria_REALITY SHOW  Categoria_RELIGIOSO  \\\n",
              "0                  2.35  ...                       0                    0   \n",
              "1                  2.75  ...                       0                    0   \n",
              "2                  3.24  ...                       0                    0   \n",
              "3                  3.92  ...                       0                    0   \n",
              "4                  4.05  ...                       0                    0   \n",
              "...                 ...  ...                     ...                  ...   \n",
              "218863             0.92  ...                       0                    0   \n",
              "218864             1.07  ...                       0                    0   \n",
              "218865             1.26  ...                       0                    0   \n",
              "218866             1.42  ...                       0                    0   \n",
              "218867             1.89  ...                       0                    0   \n",
              "\n",
              "        Categoria_REPORTAGEM  Categoria_RURAL  Categoria_SERIES  \\\n",
              "0                          0                0                 0   \n",
              "1                          0                0                 0   \n",
              "2                          0                0                 0   \n",
              "3                          0                0                 0   \n",
              "4                          0                0                 0   \n",
              "...                      ...              ...               ...   \n",
              "218863                     0                0                 0   \n",
              "218864                     0                0                 0   \n",
              "218865                     0                0                 0   \n",
              "218866                     0                0                 0   \n",
              "218867                     0                0                 0   \n",
              "\n",
              "        Categoria_SHOW  Categoria_SORTEIO  Categoria_TELE VENDAS  Feriado  \\\n",
              "0                    0                  0                      0        0   \n",
              "1                    0                  0                      0        0   \n",
              "2                    0                  0                      0        0   \n",
              "3                    0                  0                      0        0   \n",
              "4                    0                  0                      0        0   \n",
              "...                ...                ...                    ...      ...   \n",
              "218863               0                  0                      0        0   \n",
              "218864               0                  0                      0        0   \n",
              "218865               0                  0                      0        0   \n",
              "218866               0                  0                      0        0   \n",
              "218867               0                  0                      0        0   \n",
              "\n",
              "         Ano  \n",
              "0       2020  \n",
              "1       2020  \n",
              "2       2020  \n",
              "3       2020  \n",
              "4       2020  \n",
              "...      ...  \n",
              "218863  2022  \n",
              "218864  2022  \n",
              "218865  2022  \n",
              "218866  2022  \n",
              "218867  2022  \n",
              "\n",
              "[218868 rows x 76 columns]"
            ],
            "text/html": [
              "\n",
              "  <div id=\"df-33d8451e-441a-4624-9b8e-08e841df07df\">\n",
              "    <div class=\"colab-df-container\">\n",
              "      <div>\n",
              "<style scoped>\n",
              "    .dataframe tbody tr th:only-of-type {\n",
              "        vertical-align: middle;\n",
              "    }\n",
              "\n",
              "    .dataframe tbody tr th {\n",
              "        vertical-align: top;\n",
              "    }\n",
              "\n",
              "    .dataframe thead th {\n",
              "        text-align: right;\n",
              "    }\n",
              "</style>\n",
              "<table border=\"1\" class=\"dataframe\">\n",
              "  <thead>\n",
              "    <tr style=\"text-align: right;\">\n",
              "      <th></th>\n",
              "      <th>Unnamed: 0</th>\n",
              "      <th>Hora Início</th>\n",
              "      <th>Dia da Semana</th>\n",
              "      <th>Total Domicílios | Rat%</th>\n",
              "      <th>AB | Rat%</th>\n",
              "      <th>C1 | Rat%</th>\n",
              "      <th>C2 | Rat%</th>\n",
              "      <th>DE | Rat%</th>\n",
              "      <th>Masculino | Rat%</th>\n",
              "      <th>Feminino | Rat%</th>\n",
              "      <th>...</th>\n",
              "      <th>Categoria_REALITY SHOW</th>\n",
              "      <th>Categoria_RELIGIOSO</th>\n",
              "      <th>Categoria_REPORTAGEM</th>\n",
              "      <th>Categoria_RURAL</th>\n",
              "      <th>Categoria_SERIES</th>\n",
              "      <th>Categoria_SHOW</th>\n",
              "      <th>Categoria_SORTEIO</th>\n",
              "      <th>Categoria_TELE VENDAS</th>\n",
              "      <th>Feriado</th>\n",
              "      <th>Ano</th>\n",
              "    </tr>\n",
              "  </thead>\n",
              "  <tbody>\n",
              "    <tr>\n",
              "      <th>0</th>\n",
              "      <td>0</td>\n",
              "      <td>6.00</td>\n",
              "      <td>1</td>\n",
              "      <td>4.27</td>\n",
              "      <td>2.40</td>\n",
              "      <td>0.31</td>\n",
              "      <td>0.82</td>\n",
              "      <td>5.23</td>\n",
              "      <td>1.65</td>\n",
              "      <td>2.35</td>\n",
              "      <td>...</td>\n",
              "      <td>0</td>\n",
              "      <td>0</td>\n",
              "      <td>0</td>\n",
              "      <td>0</td>\n",
              "      <td>0</td>\n",
              "      <td>0</td>\n",
              "      <td>0</td>\n",
              "      <td>0</td>\n",
              "      <td>0</td>\n",
              "      <td>2020</td>\n",
              "    </tr>\n",
              "    <tr>\n",
              "      <th>1</th>\n",
              "      <td>1</td>\n",
              "      <td>6.00</td>\n",
              "      <td>1</td>\n",
              "      <td>4.89</td>\n",
              "      <td>3.02</td>\n",
              "      <td>0.51</td>\n",
              "      <td>1.08</td>\n",
              "      <td>5.23</td>\n",
              "      <td>1.89</td>\n",
              "      <td>2.75</td>\n",
              "      <td>...</td>\n",
              "      <td>0</td>\n",
              "      <td>0</td>\n",
              "      <td>0</td>\n",
              "      <td>0</td>\n",
              "      <td>0</td>\n",
              "      <td>0</td>\n",
              "      <td>0</td>\n",
              "      <td>0</td>\n",
              "      <td>0</td>\n",
              "      <td>2020</td>\n",
              "    </tr>\n",
              "    <tr>\n",
              "      <th>2</th>\n",
              "      <td>2</td>\n",
              "      <td>6.00</td>\n",
              "      <td>1</td>\n",
              "      <td>5.74</td>\n",
              "      <td>3.13</td>\n",
              "      <td>1.53</td>\n",
              "      <td>1.22</td>\n",
              "      <td>5.23</td>\n",
              "      <td>1.97</td>\n",
              "      <td>3.24</td>\n",
              "      <td>...</td>\n",
              "      <td>0</td>\n",
              "      <td>0</td>\n",
              "      <td>0</td>\n",
              "      <td>0</td>\n",
              "      <td>0</td>\n",
              "      <td>0</td>\n",
              "      <td>0</td>\n",
              "      <td>0</td>\n",
              "      <td>0</td>\n",
              "      <td>2020</td>\n",
              "    </tr>\n",
              "    <tr>\n",
              "      <th>3</th>\n",
              "      <td>3</td>\n",
              "      <td>6.25</td>\n",
              "      <td>1</td>\n",
              "      <td>6.55</td>\n",
              "      <td>3.06</td>\n",
              "      <td>1.86</td>\n",
              "      <td>1.48</td>\n",
              "      <td>6.46</td>\n",
              "      <td>1.92</td>\n",
              "      <td>3.92</td>\n",
              "      <td>...</td>\n",
              "      <td>0</td>\n",
              "      <td>0</td>\n",
              "      <td>0</td>\n",
              "      <td>0</td>\n",
              "      <td>0</td>\n",
              "      <td>0</td>\n",
              "      <td>0</td>\n",
              "      <td>0</td>\n",
              "      <td>0</td>\n",
              "      <td>2020</td>\n",
              "    </tr>\n",
              "    <tr>\n",
              "      <th>4</th>\n",
              "      <td>4</td>\n",
              "      <td>6.25</td>\n",
              "      <td>1</td>\n",
              "      <td>7.27</td>\n",
              "      <td>3.49</td>\n",
              "      <td>2.18</td>\n",
              "      <td>1.48</td>\n",
              "      <td>6.46</td>\n",
              "      <td>2.23</td>\n",
              "      <td>4.05</td>\n",
              "      <td>...</td>\n",
              "      <td>0</td>\n",
              "      <td>0</td>\n",
              "      <td>0</td>\n",
              "      <td>0</td>\n",
              "      <td>0</td>\n",
              "      <td>0</td>\n",
              "      <td>0</td>\n",
              "      <td>0</td>\n",
              "      <td>0</td>\n",
              "      <td>2020</td>\n",
              "    </tr>\n",
              "    <tr>\n",
              "      <th>...</th>\n",
              "      <td>...</td>\n",
              "      <td>...</td>\n",
              "      <td>...</td>\n",
              "      <td>...</td>\n",
              "      <td>...</td>\n",
              "      <td>...</td>\n",
              "      <td>...</td>\n",
              "      <td>...</td>\n",
              "      <td>...</td>\n",
              "      <td>...</td>\n",
              "      <td>...</td>\n",
              "      <td>...</td>\n",
              "      <td>...</td>\n",
              "      <td>...</td>\n",
              "      <td>...</td>\n",
              "      <td>...</td>\n",
              "      <td>...</td>\n",
              "      <td>...</td>\n",
              "      <td>...</td>\n",
              "      <td>...</td>\n",
              "      <td>...</td>\n",
              "    </tr>\n",
              "    <tr>\n",
              "      <th>218863</th>\n",
              "      <td>218863</td>\n",
              "      <td>29.50</td>\n",
              "      <td>4</td>\n",
              "      <td>1.67</td>\n",
              "      <td>0.30</td>\n",
              "      <td>0.41</td>\n",
              "      <td>1.03</td>\n",
              "      <td>0.53</td>\n",
              "      <td>0.17</td>\n",
              "      <td>0.92</td>\n",
              "      <td>...</td>\n",
              "      <td>0</td>\n",
              "      <td>0</td>\n",
              "      <td>0</td>\n",
              "      <td>0</td>\n",
              "      <td>0</td>\n",
              "      <td>0</td>\n",
              "      <td>0</td>\n",
              "      <td>0</td>\n",
              "      <td>0</td>\n",
              "      <td>2022</td>\n",
              "    </tr>\n",
              "    <tr>\n",
              "      <th>218864</th>\n",
              "      <td>218864</td>\n",
              "      <td>29.50</td>\n",
              "      <td>4</td>\n",
              "      <td>1.97</td>\n",
              "      <td>0.30</td>\n",
              "      <td>0.41</td>\n",
              "      <td>1.45</td>\n",
              "      <td>0.35</td>\n",
              "      <td>0.17</td>\n",
              "      <td>1.07</td>\n",
              "      <td>...</td>\n",
              "      <td>0</td>\n",
              "      <td>0</td>\n",
              "      <td>0</td>\n",
              "      <td>0</td>\n",
              "      <td>0</td>\n",
              "      <td>0</td>\n",
              "      <td>0</td>\n",
              "      <td>0</td>\n",
              "      <td>0</td>\n",
              "      <td>2022</td>\n",
              "    </tr>\n",
              "    <tr>\n",
              "      <th>218865</th>\n",
              "      <td>218865</td>\n",
              "      <td>29.75</td>\n",
              "      <td>4</td>\n",
              "      <td>2.22</td>\n",
              "      <td>0.30</td>\n",
              "      <td>0.41</td>\n",
              "      <td>1.45</td>\n",
              "      <td>0.88</td>\n",
              "      <td>0.17</td>\n",
              "      <td>1.26</td>\n",
              "      <td>...</td>\n",
              "      <td>0</td>\n",
              "      <td>0</td>\n",
              "      <td>0</td>\n",
              "      <td>0</td>\n",
              "      <td>0</td>\n",
              "      <td>0</td>\n",
              "      <td>0</td>\n",
              "      <td>0</td>\n",
              "      <td>0</td>\n",
              "      <td>2022</td>\n",
              "    </tr>\n",
              "    <tr>\n",
              "      <th>218866</th>\n",
              "      <td>218866</td>\n",
              "      <td>29.75</td>\n",
              "      <td>4</td>\n",
              "      <td>2.71</td>\n",
              "      <td>0.54</td>\n",
              "      <td>0.41</td>\n",
              "      <td>1.81</td>\n",
              "      <td>0.88</td>\n",
              "      <td>0.37</td>\n",
              "      <td>1.42</td>\n",
              "      <td>...</td>\n",
              "      <td>0</td>\n",
              "      <td>0</td>\n",
              "      <td>0</td>\n",
              "      <td>0</td>\n",
              "      <td>0</td>\n",
              "      <td>0</td>\n",
              "      <td>0</td>\n",
              "      <td>0</td>\n",
              "      <td>0</td>\n",
              "      <td>2022</td>\n",
              "    </tr>\n",
              "    <tr>\n",
              "      <th>218867</th>\n",
              "      <td>218867</td>\n",
              "      <td>29.75</td>\n",
              "      <td>4</td>\n",
              "      <td>3.60</td>\n",
              "      <td>0.90</td>\n",
              "      <td>0.41</td>\n",
              "      <td>2.50</td>\n",
              "      <td>0.88</td>\n",
              "      <td>0.51</td>\n",
              "      <td>1.89</td>\n",
              "      <td>...</td>\n",
              "      <td>0</td>\n",
              "      <td>0</td>\n",
              "      <td>0</td>\n",
              "      <td>0</td>\n",
              "      <td>0</td>\n",
              "      <td>0</td>\n",
              "      <td>0</td>\n",
              "      <td>0</td>\n",
              "      <td>0</td>\n",
              "      <td>2022</td>\n",
              "    </tr>\n",
              "  </tbody>\n",
              "</table>\n",
              "<p>218868 rows × 76 columns</p>\n",
              "</div>\n",
              "      <button class=\"colab-df-convert\" onclick=\"convertToInteractive('df-33d8451e-441a-4624-9b8e-08e841df07df')\"\n",
              "              title=\"Convert this dataframe to an interactive table.\"\n",
              "              style=\"display:none;\">\n",
              "        \n",
              "  <svg xmlns=\"http://www.w3.org/2000/svg\" height=\"24px\"viewBox=\"0 0 24 24\"\n",
              "       width=\"24px\">\n",
              "    <path d=\"M0 0h24v24H0V0z\" fill=\"none\"/>\n",
              "    <path d=\"M18.56 5.44l.94 2.06.94-2.06 2.06-.94-2.06-.94-.94-2.06-.94 2.06-2.06.94zm-11 1L8.5 8.5l.94-2.06 2.06-.94-2.06-.94L8.5 2.5l-.94 2.06-2.06.94zm10 10l.94 2.06.94-2.06 2.06-.94-2.06-.94-.94-2.06-.94 2.06-2.06.94z\"/><path d=\"M17.41 7.96l-1.37-1.37c-.4-.4-.92-.59-1.43-.59-.52 0-1.04.2-1.43.59L10.3 9.45l-7.72 7.72c-.78.78-.78 2.05 0 2.83L4 21.41c.39.39.9.59 1.41.59.51 0 1.02-.2 1.41-.59l7.78-7.78 2.81-2.81c.8-.78.8-2.07 0-2.86zM5.41 20L4 18.59l7.72-7.72 1.47 1.35L5.41 20z\"/>\n",
              "  </svg>\n",
              "      </button>\n",
              "      \n",
              "  <style>\n",
              "    .colab-df-container {\n",
              "      display:flex;\n",
              "      flex-wrap:wrap;\n",
              "      gap: 12px;\n",
              "    }\n",
              "\n",
              "    .colab-df-convert {\n",
              "      background-color: #E8F0FE;\n",
              "      border: none;\n",
              "      border-radius: 50%;\n",
              "      cursor: pointer;\n",
              "      display: none;\n",
              "      fill: #1967D2;\n",
              "      height: 32px;\n",
              "      padding: 0 0 0 0;\n",
              "      width: 32px;\n",
              "    }\n",
              "\n",
              "    .colab-df-convert:hover {\n",
              "      background-color: #E2EBFA;\n",
              "      box-shadow: 0px 1px 2px rgba(60, 64, 67, 0.3), 0px 1px 3px 1px rgba(60, 64, 67, 0.15);\n",
              "      fill: #174EA6;\n",
              "    }\n",
              "\n",
              "    [theme=dark] .colab-df-convert {\n",
              "      background-color: #3B4455;\n",
              "      fill: #D2E3FC;\n",
              "    }\n",
              "\n",
              "    [theme=dark] .colab-df-convert:hover {\n",
              "      background-color: #434B5C;\n",
              "      box-shadow: 0px 1px 3px 1px rgba(0, 0, 0, 0.15);\n",
              "      filter: drop-shadow(0px 1px 2px rgba(0, 0, 0, 0.3));\n",
              "      fill: #FFFFFF;\n",
              "    }\n",
              "  </style>\n",
              "\n",
              "      <script>\n",
              "        const buttonEl =\n",
              "          document.querySelector('#df-33d8451e-441a-4624-9b8e-08e841df07df button.colab-df-convert');\n",
              "        buttonEl.style.display =\n",
              "          google.colab.kernel.accessAllowed ? 'block' : 'none';\n",
              "\n",
              "        async function convertToInteractive(key) {\n",
              "          const element = document.querySelector('#df-33d8451e-441a-4624-9b8e-08e841df07df');\n",
              "          const dataTable =\n",
              "            await google.colab.kernel.invokeFunction('convertToInteractive',\n",
              "                                                     [key], {});\n",
              "          if (!dataTable) return;\n",
              "\n",
              "          const docLinkHtml = 'Like what you see? Visit the ' +\n",
              "            '<a target=\"_blank\" href=https://colab.research.google.com/notebooks/data_table.ipynb>data table notebook</a>'\n",
              "            + ' to learn more about interactive tables.';\n",
              "          element.innerHTML = '';\n",
              "          dataTable['output_type'] = 'display_data';\n",
              "          await google.colab.output.renderOutput(dataTable, element);\n",
              "          const docLink = document.createElement('div');\n",
              "          docLink.innerHTML = docLinkHtml;\n",
              "          element.appendChild(docLink);\n",
              "        }\n",
              "      </script>\n",
              "    </div>\n",
              "  </div>\n",
              "  "
            ]
          },
          "metadata": {},
          "execution_count": 2
        }
      ],
      "source": [
        "dataset_features = pd.read_csv(\"/content/drive/MyDrive/dataset-processado/dataset_features.csv\")\n",
        "dataset_features"
      ]
    },
    {
      "cell_type": "markdown",
      "metadata": {
        "id": "3x2P3Ztx2lWe"
      },
      "source": [
        "### 2. Seleção das Features e Labels"
      ]
    },
    {
      "cell_type": "markdown",
      "metadata": {
        "id": "V6SlWGkYIL0m"
      },
      "source": [
        "Nessa parte definimos as varíaveis dependentes (y) e variáveis indepentes (x) que foram utilizadas nos modelos de predição. "
      ]
    },
    {
      "cell_type": "code",
      "execution_count": null,
      "metadata": {
        "colab": {
          "base_uri": "https://localhost:8080/"
        },
        "id": "g18U3AUxA2hM",
        "outputId": "939499b7-5f45-4604-e322-62e2c8828041"
      },
      "outputs": [
        {
          "output_type": "stream",
          "name": "stderr",
          "text": [
            "/usr/local/lib/python3.7/dist-packages/ipykernel_launcher.py:41: SettingWithCopyWarning: \n",
            "A value is trying to be set on a copy of a slice from a DataFrame.\n",
            "Try using .loc[row_indexer,col_indexer] = value instead\n",
            "\n",
            "See the caveats in the documentation: https://pandas.pydata.org/pandas-docs/stable/user_guide/indexing.html#returning-a-view-versus-a-copy\n"
          ]
        }
      ],
      "source": [
        "from sklearn.model_selection import train_test_split\n",
        "\n",
        "# features a serem utilizadas\n",
        "X = dataset_features[['Hora Início','Dia da Semana','Mês','Dia', 'Feriado', 'Categoria_CARROS E MOTORES', 'Categoria_CULINARIO', 'Categoria_DEBATE',  \n",
        "       'Categoria_DOCUMENTARIO', 'Categoria_EDUCATIVO', 'Categoria_ENTREVISTA',\n",
        "       'Categoria_ESPORTE', 'Categoria_FEMININO', 'Categoria_FILME',\n",
        "       'Categoria_FUTEBOL', 'Categoria_GAME SHOW', 'Categoria_HUMORISTICO',\n",
        "       'Categoria_JORNALISMO', 'Categoria_MINISSERIE', 'Categoria_MUSICAL',\n",
        "       'Categoria_NOVELA', 'Categoria_OUTROS', 'Categoria_POLITICO',\n",
        "       'Categoria_PREMIACAO', 'Categoria_REALITY SHOW', 'Categoria_RELIGIOSO',\n",
        "       'Categoria_REPORTAGEM', 'Categoria_RURAL', 'Categoria_SERIES',\n",
        "       'Categoria_SHOW', 'Categoria_SORTEIO', 'Categoria_TELE VENDAS']]\n",
        "\n",
        "X_sem_categoria = dataset_features[['Hora Início','Dia da Semana','Mês','Dia', 'Feriado']]\n",
        "\n",
        "X_somente_categoria = dataset_features[['Categoria_CARROS E MOTORES', 'Categoria_CULINARIO', 'Categoria_DEBATE',  \n",
        "       'Categoria_DOCUMENTARIO', 'Categoria_EDUCATIVO', 'Categoria_ENTREVISTA',\n",
        "       'Categoria_ESPORTE', 'Categoria_FEMININO', 'Categoria_FILME',\n",
        "       'Categoria_FUTEBOL', 'Categoria_GAME SHOW', 'Categoria_HUMORISTICO',\n",
        "       'Categoria_JORNALISMO', 'Categoria_MINISSERIE', 'Categoria_MUSICAL',\n",
        "       'Categoria_NOVELA', 'Categoria_OUTROS', 'Categoria_POLITICO',\n",
        "       'Categoria_PREMIACAO', 'Categoria_REALITY SHOW', 'Categoria_RELIGIOSO',\n",
        "       'Categoria_REPORTAGEM', 'Categoria_RURAL', 'Categoria_SERIES',\n",
        "       'Categoria_SHOW', 'Categoria_SORTEIO', 'Categoria_TELE VENDAS']]\n",
        "\n",
        "\n",
        "# labels a serem utilizadas\n",
        "y_rat = dataset_features[['Total Domicílios | Rat%', 'AB | Rat%',\n",
        "       'C1 | Rat%', 'C2 | Rat%', 'DE | Rat%', 'Masculino | Rat%',\n",
        "       'Feminino | Rat%', '4-11 anos | Rat%', '12-17 anos | Rat%',\n",
        "       '18-24 anos | Rat%', '25-34 anos | Rat%', '35-49 anos | Rat%',\n",
        "       '50-59 anos | Rat%', '60+ anos | Rat%']]\n",
        "\n",
        "# TODO: Change to fid and share columns\n",
        "y_fid = dataset_features[[\n",
        "       'Total Indivíduos | Fid%', 'AB | Fid%', 'C1 | Fid%', 'C2 | Fid%',\n",
        "       'DE | Fid%', 'Masculino | Fid%', 'Feminino | Fid%', '4-11 anos | Fid%',\n",
        "       '12-17 anos | Fid%', '18-24 anos | Fid%', '25-34 anos | Fid%',\n",
        "       '35-49 anos | Fid%', '50-59 anos | Fid%', '60+ anos | Fid%']]\n",
        "\n",
        "y_fid['Total Indivíduos | Fid%'] = y_fid['Total Indivíduos | Fid%'].str.replace(',','.').astype('float64')\n",
        "\n",
        "y_share = dataset_features[['Total Domicílios | Shr%', 'AB | Shr%', 'C1 | Shr%', 'C2 | Shr%',\n",
        "       'DE | Shr%', 'Masculino | Shr%', 'Feminino | Shr%', '4-11 anos | Shr%',\n",
        "       '12-17 anos | Shr%', '18-24 anos | Shr%', '25-34 anos | Shr%',\n",
        "       '35-49 anos | Shr%', '50-59 anos | Shr%', '60+ anos | Shr%']]"
      ]
    },
    {
      "cell_type": "markdown",
      "metadata": {
        "id": "hj8E7_vz2vNE"
      },
      "source": [
        "### 2.1 Separação entre features/labels de teste e features/labels de validação"
      ]
    },
    {
      "cell_type": "markdown",
      "metadata": {
        "id": "L5Ow9bNGIxR6"
      },
      "source": []
    },
    {
      "cell_type": "code",
      "execution_count": null,
      "metadata": {
        "id": "esT1KsT128Ey"
      },
      "outputs": [],
      "source": [
        "X_train, X_test, y_train_rat, y_test_rat = train_test_split(X,y_rat, random_state=42)\n",
        "_, _, y_train_share, y_test_share = train_test_split(X,y_share, random_state=42)\n",
        "_, _, y_train_fid, y_test_fid = train_test_split(X,y_fid, random_state=42)"
      ]
    },
    {
      "cell_type": "markdown",
      "metadata": {
        "id": "U3ZZKqzSMRZT"
      },
      "source": [
        "### 3. Modelos de Regressão\n",
        "import das bibliotecas necessárias"
      ]
    },
    {
      "cell_type": "code",
      "execution_count": null,
      "metadata": {
        "id": "oxoVn8k1MX0r"
      },
      "outputs": [],
      "source": [
        "# TODO: Importar aqui somente os modelos e ferramentas utilizadas\n",
        "\n",
        "# Modelos\n",
        "from sklearn.ensemble import RandomForestRegressor\n",
        "\n",
        "# Métricas de Avaliação\n",
        "from sklearn.metrics import r2_score, mean_squared_error"
      ]
    },
    {
      "cell_type": "markdown",
      "metadata": {
        "id": "rwVLseK4VPJ7"
      },
      "source": [
        "### 3.1 Random Forest Regressor"
      ]
    },
    {
      "cell_type": "code",
      "execution_count": null,
      "metadata": {
        "id": "au2iJ0blVad_",
        "colab": {
          "base_uri": "https://localhost:8080/"
        },
        "outputId": "665380e2-368e-42e0-8e30-cefba09de83e"
      },
      "outputs": [
        {
          "output_type": "stream",
          "name": "stdout",
          "text": [
            "CPU times: user 4min 41s, sys: 6.66 s, total: 4min 47s\n",
            "Wall time: 4min 46s\n"
          ]
        }
      ],
      "source": [
        "%%time\n",
        "modelo_RFR_rat = RandomForestRegressor(n_estimators = 138, min_samples_split = 5, min_samples_leaf = 1, max_features = \"auto\", max_depth = 12, bootstrap = True)\n",
        "modelo_RFR_fid = RandomForestRegressor(n_estimators = 138, min_samples_split = 5, min_samples_leaf = 1, max_features = \"auto\", max_depth = 12, bootstrap = True)\n",
        "modelo_RFR_share = RandomForestRegressor(n_estimators = 138, min_samples_split = 5, min_samples_leaf = 1, max_features = \"auto\", max_depth = 12, bootstrap = True)\n",
        "\n",
        "\n",
        "modelo_RFR_rat.fit(X_train, y_train_rat)\n",
        "modelo_RFR_share.fit(X_train, y_train_share)\n",
        "modelo_RFR_fid.fit(X_train, y_train_fid)\n",
        "\n",
        "y_pred_rfr_train_rat = modelo_RFR_rat.predict(X_train)\n",
        "y_pred_rfr_test_rat = modelo_RFR_rat.predict(X_test)\n",
        "\n",
        "y_pred_rfr_train_share = modelo_RFR_share.predict(X_train)\n",
        "y_pred_rfr_test_share = modelo_RFR_share.predict(X_test)\n",
        "\n",
        "y_pred_rfr_train_fid = modelo_RFR_fid.predict(X_train)\n",
        "y_pred_rfr_test_fid = modelo_RFR_fid.predict(X_test)"
      ]
    },
    {
      "cell_type": "code",
      "execution_count": null,
      "metadata": {
        "colab": {
          "base_uri": "https://localhost:8080/"
        },
        "id": "XxqofMXxV2oE",
        "outputId": "b0506bca-e173-4f61-8b21-9737b2837f40"
      },
      "outputs": [
        {
          "output_type": "stream",
          "name": "stdout",
          "text": [
            "\n",
            "\n",
            "## Rat %\n",
            "Precisão (treino):  0.7187466930960174\n",
            "Mean Squared Error (Treino):  4.037855781439256\n",
            "Precisão (teste):  0.7036222016663304\n",
            "Mean Squared Error (teste):  4.278103002701818\n",
            "\n",
            "\n",
            "## share %\n",
            "Precisão (treino):  0.4069306526502384\n",
            "Mean Squared Error (Treino):  201.55473076281245\n",
            "Precisão (teste):  0.38465192835210943\n",
            "Mean Squared Error (teste):  208.6613425389116\n",
            "\n",
            "\n",
            "## fid %\n",
            "Precisão (treino):  0.33840711651798777\n",
            "Mean Squared Error (Treino):  455.6276670894102\n",
            "Precisão (teste):  0.303848217136168\n",
            "Mean Squared Error (teste):  476.51549853102176\n",
            "CPU times: user 262 ms, sys: 11.1 ms, total: 273 ms\n",
            "Wall time: 275 ms\n"
          ]
        }
      ],
      "source": [
        "%%time\n",
        "# Rat Scores\n",
        "rfr_r2_score_train_rat = r2_score(y_train_rat, y_pred_rfr_train_rat)\n",
        "rfr_r2_score_test_rat = r2_score(y_test_rat, y_pred_rfr_test_rat)\n",
        "\n",
        "rfr_mean_train_score_rat = mean_squared_error(y_train_rat, y_pred_rfr_train_rat)\n",
        "rfr_mean_test_score_rat = mean_squared_error(y_test_rat, y_pred_rfr_test_rat)\n",
        "\n",
        "# Share Scores\n",
        "rfr_r2_score_train_share = r2_score(y_train_share, y_pred_rfr_train_share)\n",
        "rfr_r2_score_test_share = r2_score(y_test_share, y_pred_rfr_test_share)\n",
        "\n",
        "rfr_mean_train_score_share = mean_squared_error(y_train_share, y_pred_rfr_train_share)\n",
        "rfr_mean_test_score_share = mean_squared_error(y_test_share, y_pred_rfr_test_share)\n",
        "\n",
        "\n",
        "# Fid Scores\n",
        "rfr_r2_score_train_fid = r2_score(y_train_fid, y_pred_rfr_train_fid)\n",
        "rfr_r2_score_test_fid = r2_score(y_test_fid, y_pred_rfr_test_fid)\n",
        "\n",
        "rfr_mean_train_score_fid = mean_squared_error(y_train_fid, y_pred_rfr_train_fid)\n",
        "rfr_mean_test_score_fid = mean_squared_error(y_test_fid, y_pred_rfr_test_fid)\n",
        "\n",
        "\n",
        "\n",
        "print(\"\\n\\n## Rat %\")\n",
        "print('Precisão (treino): ', rfr_r2_score_train_rat)\n",
        "print('Mean Squared Error (Treino): ', rfr_mean_train_score_rat)\n",
        "print('Precisão (teste): ', rfr_r2_score_test_rat)\n",
        "print('Mean Squared Error (teste): ', rfr_mean_test_score_rat)\n",
        "\n",
        "print(\"\\n\\n## share %\")\n",
        "print('Precisão (treino): ', rfr_r2_score_train_share)\n",
        "print('Mean Squared Error (Treino): ', rfr_mean_train_score_share)\n",
        "print('Precisão (teste): ', rfr_r2_score_test_share)\n",
        "print('Mean Squared Error (teste): ', rfr_mean_test_score_share)\n",
        "\n",
        "print(\"\\n\\n## fid %\")\n",
        "print('Precisão (treino): ', rfr_r2_score_train_fid)\n",
        "print('Mean Squared Error (Treino): ', rfr_mean_train_score_fid)\n",
        "print('Precisão (teste): ', rfr_r2_score_test_fid)\n",
        "print('Mean Squared Error (teste): ', rfr_mean_test_score_fid)"
      ]
    },
    {
      "cell_type": "markdown",
      "source": [
        "### Testagem de Hiperparâmetros"
      ],
      "metadata": {
        "id": "X_bQERwPLImb"
      }
    },
    {
      "cell_type": "code",
      "source": [
        "from sklearn.model_selection import RandomizedSearchCV"
      ],
      "metadata": {
        "id": "Cu89cgtCMqKs"
      },
      "execution_count": null,
      "outputs": []
    },
    {
      "cell_type": "code",
      "source": [
        "n_estimators = [int(x) for x in np.linspace(start = 10, stop = 300, num = 10)]\n",
        "max_features = ['auto', 'sqrt']\n",
        "max_depth = [0, 12]\n",
        "min_samples_split = [2, 5]\n",
        "min_samples_leaf = [1, 2]\n",
        "bootstrap = [True, False]"
      ],
      "metadata": {
        "id": "a4AFXrmSLCNY"
      },
      "execution_count": null,
      "outputs": []
    },
    {
      "cell_type": "code",
      "source": [
        "param_grid = {'n_estimators': n_estimators,\n",
        "              'max_features': max_features,\n",
        "              'max_depth': max_depth,\n",
        "              'min_samples_split': min_samples_split,\n",
        "              'min_samples_leaf': min_samples_leaf,\n",
        "              'bootstrap': bootstrap}\n",
        "print(param_grid)"
      ],
      "metadata": {
        "colab": {
          "base_uri": "https://localhost:8080/"
        },
        "id": "H2IXgS82L0wQ",
        "outputId": "3637839f-72b5-4a37-b4de-2a5d6a94d49e"
      },
      "execution_count": null,
      "outputs": [
        {
          "output_type": "stream",
          "name": "stdout",
          "text": [
            "{'n_estimators': [10, 42, 74, 106, 138, 171, 203, 235, 267, 300], 'max_features': ['auto', 'sqrt'], 'max_depth': [0, 12], 'min_samples_split': [2, 5], 'min_samples_leaf': [1, 2], 'bootstrap': [True, False]}\n"
          ]
        }
      ]
    },
    {
      "cell_type": "code",
      "source": [
        "rf_search = RandomizedSearchCV(estimator = modelo_RFR_rat, param_distributions = param_grid, cv = 10, verbose = 2, n_jobs = 4)"
      ],
      "metadata": {
        "id": "gY7a7cVWMgH9"
      },
      "execution_count": null,
      "outputs": []
    },
    {
      "cell_type": "code",
      "source": [
        "rf_search.fit(X_train, y_train_rat)"
      ],
      "metadata": {
        "colab": {
          "base_uri": "https://localhost:8080/"
        },
        "id": "8_gVEAkSUJUH",
        "outputId": "e7549132-f7b7-4db1-97ee-f8db89b2ad25"
      },
      "execution_count": null,
      "outputs": [
        {
          "output_type": "stream",
          "name": "stdout",
          "text": [
            "Fitting 10 folds for each of 10 candidates, totalling 100 fits\n"
          ]
        },
        {
          "output_type": "stream",
          "name": "stderr",
          "text": [
            "/usr/local/lib/python3.7/dist-packages/sklearn/model_selection/_validation.py:372: FitFailedWarning: \n",
            "70 fits failed out of a total of 100.\n",
            "The score on these train-test partitions for these parameters will be set to nan.\n",
            "If these failures are not expected, you can try to debug them by setting error_score='raise'.\n",
            "\n",
            "Below are more details about the failures:\n",
            "--------------------------------------------------------------------------------\n",
            "40 fits failed with the following error:\n",
            "Traceback (most recent call last):\n",
            "  File \"/usr/local/lib/python3.7/dist-packages/sklearn/model_selection/_validation.py\", line 680, in _fit_and_score\n",
            "    estimator.fit(X_train, y_train, **fit_params)\n",
            "  File \"/usr/local/lib/python3.7/dist-packages/sklearn/ensemble/_forest.py\", line 467, in fit\n",
            "    for i, t in enumerate(trees)\n",
            "  File \"/usr/local/lib/python3.7/dist-packages/joblib/parallel.py\", line 1043, in __call__\n",
            "    if self.dispatch_one_batch(iterator):\n",
            "  File \"/usr/local/lib/python3.7/dist-packages/joblib/parallel.py\", line 861, in dispatch_one_batch\n",
            "    self._dispatch(tasks)\n",
            "  File \"/usr/local/lib/python3.7/dist-packages/joblib/parallel.py\", line 779, in _dispatch\n",
            "    job = self._backend.apply_async(batch, callback=cb)\n",
            "  File \"/usr/local/lib/python3.7/dist-packages/joblib/_parallel_backends.py\", line 208, in apply_async\n",
            "    result = ImmediateResult(func)\n",
            "  File \"/usr/local/lib/python3.7/dist-packages/joblib/_parallel_backends.py\", line 572, in __init__\n",
            "    self.results = batch()\n",
            "  File \"/usr/local/lib/python3.7/dist-packages/joblib/parallel.py\", line 263, in __call__\n",
            "    for func, args, kwargs in self.items]\n",
            "  File \"/usr/local/lib/python3.7/dist-packages/joblib/parallel.py\", line 263, in <listcomp>\n",
            "    for func, args, kwargs in self.items]\n",
            "  File \"/usr/local/lib/python3.7/dist-packages/sklearn/utils/fixes.py\", line 216, in __call__\n",
            "    return self.function(*args, **kwargs)\n",
            "  File \"/usr/local/lib/python3.7/dist-packages/sklearn/ensemble/_forest.py\", line 185, in _parallel_build_trees\n",
            "    tree.fit(X, y, sample_weight=curr_sample_weight, check_input=False)\n",
            "  File \"/usr/local/lib/python3.7/dist-packages/sklearn/tree/_classes.py\", line 1320, in fit\n",
            "    X_idx_sorted=X_idx_sorted,\n",
            "  File \"/usr/local/lib/python3.7/dist-packages/sklearn/tree/_classes.py\", line 306, in fit\n",
            "    raise ValueError(\"max_depth must be greater than zero. \")\n",
            "ValueError: max_depth must be greater than zero. \n",
            "\n",
            "--------------------------------------------------------------------------------\n",
            "30 fits failed with the following error:\n",
            "Traceback (most recent call last):\n",
            "  File \"/usr/local/lib/python3.7/dist-packages/sklearn/model_selection/_validation.py\", line 680, in _fit_and_score\n",
            "    estimator.fit(X_train, y_train, **fit_params)\n",
            "  File \"/usr/local/lib/python3.7/dist-packages/sklearn/ensemble/_forest.py\", line 467, in fit\n",
            "    for i, t in enumerate(trees)\n",
            "  File \"/usr/local/lib/python3.7/dist-packages/joblib/parallel.py\", line 1043, in __call__\n",
            "    if self.dispatch_one_batch(iterator):\n",
            "  File \"/usr/local/lib/python3.7/dist-packages/joblib/parallel.py\", line 861, in dispatch_one_batch\n",
            "    self._dispatch(tasks)\n",
            "  File \"/usr/local/lib/python3.7/dist-packages/joblib/parallel.py\", line 779, in _dispatch\n",
            "    job = self._backend.apply_async(batch, callback=cb)\n",
            "  File \"/usr/local/lib/python3.7/dist-packages/joblib/_parallel_backends.py\", line 208, in apply_async\n",
            "    result = ImmediateResult(func)\n",
            "  File \"/usr/local/lib/python3.7/dist-packages/joblib/_parallel_backends.py\", line 572, in __init__\n",
            "    self.results = batch()\n",
            "  File \"/usr/local/lib/python3.7/dist-packages/joblib/parallel.py\", line 263, in __call__\n",
            "    for func, args, kwargs in self.items]\n",
            "  File \"/usr/local/lib/python3.7/dist-packages/joblib/parallel.py\", line 263, in <listcomp>\n",
            "    for func, args, kwargs in self.items]\n",
            "  File \"/usr/local/lib/python3.7/dist-packages/sklearn/utils/fixes.py\", line 216, in __call__\n",
            "    return self.function(*args, **kwargs)\n",
            "  File \"/usr/local/lib/python3.7/dist-packages/sklearn/ensemble/_forest.py\", line 187, in _parallel_build_trees\n",
            "    tree.fit(X, y, sample_weight=sample_weight, check_input=False)\n",
            "  File \"/usr/local/lib/python3.7/dist-packages/sklearn/tree/_classes.py\", line 1320, in fit\n",
            "    X_idx_sorted=X_idx_sorted,\n",
            "  File \"/usr/local/lib/python3.7/dist-packages/sklearn/tree/_classes.py\", line 306, in fit\n",
            "    raise ValueError(\"max_depth must be greater than zero. \")\n",
            "ValueError: max_depth must be greater than zero. \n",
            "\n",
            "  warnings.warn(some_fits_failed_message, FitFailedWarning)\n",
            "/usr/local/lib/python3.7/dist-packages/sklearn/model_selection/_search.py:972: UserWarning: One or more of the test scores are non-finite: [       nan        nan        nan        nan 0.6843907         nan\n",
            "        nan 0.70501743        nan 0.63595937]\n",
            "  category=UserWarning,\n"
          ]
        },
        {
          "output_type": "execute_result",
          "data": {
            "text/plain": [
              "RandomizedSearchCV(cv=10, estimator=RandomForestRegressor(random_state=42),\n",
              "                   n_jobs=4,\n",
              "                   param_distributions={'bootstrap': [True, False],\n",
              "                                        'max_depth': [0, 12],\n",
              "                                        'max_features': ['auto', 'sqrt'],\n",
              "                                        'min_samples_leaf': [1, 2],\n",
              "                                        'min_samples_split': [2, 5],\n",
              "                                        'n_estimators': [10, 42, 74, 106, 138,\n",
              "                                                         171, 203, 235, 267,\n",
              "                                                         300]},\n",
              "                   verbose=2)"
            ]
          },
          "metadata": {},
          "execution_count": 21
        }
      ]
    },
    {
      "cell_type": "code",
      "source": [
        "rf_search.best_params_"
      ],
      "metadata": {
        "colab": {
          "base_uri": "https://localhost:8080/"
        },
        "id": "DDZWZXpDiTXl",
        "outputId": "5828fcd0-cbc5-4cd1-8171-bc21e4afc8fe"
      },
      "execution_count": null,
      "outputs": [
        {
          "output_type": "execute_result",
          "data": {
            "text/plain": [
              "{'n_estimators': 138,\n",
              " 'min_samples_split': 5,\n",
              " 'min_samples_leaf': 1,\n",
              " 'max_features': 'auto',\n",
              " 'max_depth': 12,\n",
              " 'bootstrap': True}"
            ]
          },
          "metadata": {},
          "execution_count": 22
        }
      ]
    }
  ]
}