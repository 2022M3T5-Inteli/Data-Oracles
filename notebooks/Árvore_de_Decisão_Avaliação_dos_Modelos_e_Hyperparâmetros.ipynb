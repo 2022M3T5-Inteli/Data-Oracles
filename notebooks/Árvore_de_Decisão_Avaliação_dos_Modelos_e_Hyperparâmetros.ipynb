{
  "nbformat": 4,
  "nbformat_minor": 0,
  "metadata": {
    "colab": {
      "provenance": [],
      "toc_visible": true
    },
    "kernelspec": {
      "name": "python3",
      "display_name": "Python 3"
    },
    "language_info": {
      "name": "python"
    }
  },
  "cells": [
    {
      "cell_type": "code",
      "source": [
        "import pandas as pd"
      ],
      "metadata": {
        "id": "OH1I0eyc4jny"
      },
      "execution_count": null,
      "outputs": []
    },
    {
      "cell_type": "markdown",
      "source": [
        "### 1. Carregamento dos Dados"
      ],
      "metadata": {
        "id": "bk8IY0al4dSE"
      }
    },
    {
      "cell_type": "code",
      "execution_count": null,
      "metadata": {
        "colab": {
          "base_uri": "https://localhost:8080/",
          "height": 522
        },
        "id": "kUCgtsWh1yp3",
        "outputId": "e645ed1b-2bc4-4a8d-a72e-a98554600b9d"
      },
      "outputs": [
        {
          "output_type": "execute_result",
          "data": {
            "text/plain": [
              "        Unnamed: 0  Hora Início  Dia da Semana  Total Domicílios | Rat%  \\\n",
              "0                0         6.00              1                     4.27   \n",
              "1                1         6.00              1                     4.89   \n",
              "2                2         6.00              1                     5.74   \n",
              "3                3         6.25              1                     6.55   \n",
              "4                4         6.25              1                     7.27   \n",
              "...            ...          ...            ...                      ...   \n",
              "218863      218863        29.50              4                     1.67   \n",
              "218864      218864        29.50              4                     1.97   \n",
              "218865      218865        29.75              4                     2.22   \n",
              "218866      218866        29.75              4                     2.71   \n",
              "218867      218867        29.75              4                     3.60   \n",
              "\n",
              "        AB | Rat%  C1 | Rat%  C2 | Rat%  DE | Rat%  Masculino | Rat%  \\\n",
              "0            2.40       0.31       0.82       5.23              1.65   \n",
              "1            3.02       0.51       1.08       5.23              1.89   \n",
              "2            3.13       1.53       1.22       5.23              1.97   \n",
              "3            3.06       1.86       1.48       6.46              1.92   \n",
              "4            3.49       2.18       1.48       6.46              2.23   \n",
              "...           ...        ...        ...        ...               ...   \n",
              "218863       0.30       0.41       1.03       0.53              0.17   \n",
              "218864       0.30       0.41       1.45       0.35              0.17   \n",
              "218865       0.30       0.41       1.45       0.88              0.17   \n",
              "218866       0.54       0.41       1.81       0.88              0.37   \n",
              "218867       0.90       0.41       2.50       0.88              0.51   \n",
              "\n",
              "        Feminino | Rat%  ...  Categoria_REALITY SHOW  Categoria_RELIGIOSO  \\\n",
              "0                  2.35  ...                       0                    0   \n",
              "1                  2.75  ...                       0                    0   \n",
              "2                  3.24  ...                       0                    0   \n",
              "3                  3.92  ...                       0                    0   \n",
              "4                  4.05  ...                       0                    0   \n",
              "...                 ...  ...                     ...                  ...   \n",
              "218863             0.92  ...                       0                    0   \n",
              "218864             1.07  ...                       0                    0   \n",
              "218865             1.26  ...                       0                    0   \n",
              "218866             1.42  ...                       0                    0   \n",
              "218867             1.89  ...                       0                    0   \n",
              "\n",
              "        Categoria_REPORTAGEM  Categoria_RURAL  Categoria_SERIES  \\\n",
              "0                          0                0                 0   \n",
              "1                          0                0                 0   \n",
              "2                          0                0                 0   \n",
              "3                          0                0                 0   \n",
              "4                          0                0                 0   \n",
              "...                      ...              ...               ...   \n",
              "218863                     0                0                 0   \n",
              "218864                     0                0                 0   \n",
              "218865                     0                0                 0   \n",
              "218866                     0                0                 0   \n",
              "218867                     0                0                 0   \n",
              "\n",
              "        Categoria_SHOW  Categoria_SORTEIO  Categoria_TELE VENDAS  Feriado  \\\n",
              "0                    0                  0                      0        0   \n",
              "1                    0                  0                      0        0   \n",
              "2                    0                  0                      0        0   \n",
              "3                    0                  0                      0        0   \n",
              "4                    0                  0                      0        0   \n",
              "...                ...                ...                    ...      ...   \n",
              "218863               0                  0                      0        0   \n",
              "218864               0                  0                      0        0   \n",
              "218865               0                  0                      0        0   \n",
              "218866               0                  0                      0        0   \n",
              "218867               0                  0                      0        0   \n",
              "\n",
              "         Ano  \n",
              "0       2020  \n",
              "1       2020  \n",
              "2       2020  \n",
              "3       2020  \n",
              "4       2020  \n",
              "...      ...  \n",
              "218863  2022  \n",
              "218864  2022  \n",
              "218865  2022  \n",
              "218866  2022  \n",
              "218867  2022  \n",
              "\n",
              "[218868 rows x 76 columns]"
            ],
            "text/html": [
              "\n",
              "  <div id=\"df-1d35a5f5-605b-469e-badd-7368ae904ae8\">\n",
              "    <div class=\"colab-df-container\">\n",
              "      <div>\n",
              "<style scoped>\n",
              "    .dataframe tbody tr th:only-of-type {\n",
              "        vertical-align: middle;\n",
              "    }\n",
              "\n",
              "    .dataframe tbody tr th {\n",
              "        vertical-align: top;\n",
              "    }\n",
              "\n",
              "    .dataframe thead th {\n",
              "        text-align: right;\n",
              "    }\n",
              "</style>\n",
              "<table border=\"1\" class=\"dataframe\">\n",
              "  <thead>\n",
              "    <tr style=\"text-align: right;\">\n",
              "      <th></th>\n",
              "      <th>Unnamed: 0</th>\n",
              "      <th>Hora Início</th>\n",
              "      <th>Dia da Semana</th>\n",
              "      <th>Total Domicílios | Rat%</th>\n",
              "      <th>AB | Rat%</th>\n",
              "      <th>C1 | Rat%</th>\n",
              "      <th>C2 | Rat%</th>\n",
              "      <th>DE | Rat%</th>\n",
              "      <th>Masculino | Rat%</th>\n",
              "      <th>Feminino | Rat%</th>\n",
              "      <th>...</th>\n",
              "      <th>Categoria_REALITY SHOW</th>\n",
              "      <th>Categoria_RELIGIOSO</th>\n",
              "      <th>Categoria_REPORTAGEM</th>\n",
              "      <th>Categoria_RURAL</th>\n",
              "      <th>Categoria_SERIES</th>\n",
              "      <th>Categoria_SHOW</th>\n",
              "      <th>Categoria_SORTEIO</th>\n",
              "      <th>Categoria_TELE VENDAS</th>\n",
              "      <th>Feriado</th>\n",
              "      <th>Ano</th>\n",
              "    </tr>\n",
              "  </thead>\n",
              "  <tbody>\n",
              "    <tr>\n",
              "      <th>0</th>\n",
              "      <td>0</td>\n",
              "      <td>6.00</td>\n",
              "      <td>1</td>\n",
              "      <td>4.27</td>\n",
              "      <td>2.40</td>\n",
              "      <td>0.31</td>\n",
              "      <td>0.82</td>\n",
              "      <td>5.23</td>\n",
              "      <td>1.65</td>\n",
              "      <td>2.35</td>\n",
              "      <td>...</td>\n",
              "      <td>0</td>\n",
              "      <td>0</td>\n",
              "      <td>0</td>\n",
              "      <td>0</td>\n",
              "      <td>0</td>\n",
              "      <td>0</td>\n",
              "      <td>0</td>\n",
              "      <td>0</td>\n",
              "      <td>0</td>\n",
              "      <td>2020</td>\n",
              "    </tr>\n",
              "    <tr>\n",
              "      <th>1</th>\n",
              "      <td>1</td>\n",
              "      <td>6.00</td>\n",
              "      <td>1</td>\n",
              "      <td>4.89</td>\n",
              "      <td>3.02</td>\n",
              "      <td>0.51</td>\n",
              "      <td>1.08</td>\n",
              "      <td>5.23</td>\n",
              "      <td>1.89</td>\n",
              "      <td>2.75</td>\n",
              "      <td>...</td>\n",
              "      <td>0</td>\n",
              "      <td>0</td>\n",
              "      <td>0</td>\n",
              "      <td>0</td>\n",
              "      <td>0</td>\n",
              "      <td>0</td>\n",
              "      <td>0</td>\n",
              "      <td>0</td>\n",
              "      <td>0</td>\n",
              "      <td>2020</td>\n",
              "    </tr>\n",
              "    <tr>\n",
              "      <th>2</th>\n",
              "      <td>2</td>\n",
              "      <td>6.00</td>\n",
              "      <td>1</td>\n",
              "      <td>5.74</td>\n",
              "      <td>3.13</td>\n",
              "      <td>1.53</td>\n",
              "      <td>1.22</td>\n",
              "      <td>5.23</td>\n",
              "      <td>1.97</td>\n",
              "      <td>3.24</td>\n",
              "      <td>...</td>\n",
              "      <td>0</td>\n",
              "      <td>0</td>\n",
              "      <td>0</td>\n",
              "      <td>0</td>\n",
              "      <td>0</td>\n",
              "      <td>0</td>\n",
              "      <td>0</td>\n",
              "      <td>0</td>\n",
              "      <td>0</td>\n",
              "      <td>2020</td>\n",
              "    </tr>\n",
              "    <tr>\n",
              "      <th>3</th>\n",
              "      <td>3</td>\n",
              "      <td>6.25</td>\n",
              "      <td>1</td>\n",
              "      <td>6.55</td>\n",
              "      <td>3.06</td>\n",
              "      <td>1.86</td>\n",
              "      <td>1.48</td>\n",
              "      <td>6.46</td>\n",
              "      <td>1.92</td>\n",
              "      <td>3.92</td>\n",
              "      <td>...</td>\n",
              "      <td>0</td>\n",
              "      <td>0</td>\n",
              "      <td>0</td>\n",
              "      <td>0</td>\n",
              "      <td>0</td>\n",
              "      <td>0</td>\n",
              "      <td>0</td>\n",
              "      <td>0</td>\n",
              "      <td>0</td>\n",
              "      <td>2020</td>\n",
              "    </tr>\n",
              "    <tr>\n",
              "      <th>4</th>\n",
              "      <td>4</td>\n",
              "      <td>6.25</td>\n",
              "      <td>1</td>\n",
              "      <td>7.27</td>\n",
              "      <td>3.49</td>\n",
              "      <td>2.18</td>\n",
              "      <td>1.48</td>\n",
              "      <td>6.46</td>\n",
              "      <td>2.23</td>\n",
              "      <td>4.05</td>\n",
              "      <td>...</td>\n",
              "      <td>0</td>\n",
              "      <td>0</td>\n",
              "      <td>0</td>\n",
              "      <td>0</td>\n",
              "      <td>0</td>\n",
              "      <td>0</td>\n",
              "      <td>0</td>\n",
              "      <td>0</td>\n",
              "      <td>0</td>\n",
              "      <td>2020</td>\n",
              "    </tr>\n",
              "    <tr>\n",
              "      <th>...</th>\n",
              "      <td>...</td>\n",
              "      <td>...</td>\n",
              "      <td>...</td>\n",
              "      <td>...</td>\n",
              "      <td>...</td>\n",
              "      <td>...</td>\n",
              "      <td>...</td>\n",
              "      <td>...</td>\n",
              "      <td>...</td>\n",
              "      <td>...</td>\n",
              "      <td>...</td>\n",
              "      <td>...</td>\n",
              "      <td>...</td>\n",
              "      <td>...</td>\n",
              "      <td>...</td>\n",
              "      <td>...</td>\n",
              "      <td>...</td>\n",
              "      <td>...</td>\n",
              "      <td>...</td>\n",
              "      <td>...</td>\n",
              "      <td>...</td>\n",
              "    </tr>\n",
              "    <tr>\n",
              "      <th>218863</th>\n",
              "      <td>218863</td>\n",
              "      <td>29.50</td>\n",
              "      <td>4</td>\n",
              "      <td>1.67</td>\n",
              "      <td>0.30</td>\n",
              "      <td>0.41</td>\n",
              "      <td>1.03</td>\n",
              "      <td>0.53</td>\n",
              "      <td>0.17</td>\n",
              "      <td>0.92</td>\n",
              "      <td>...</td>\n",
              "      <td>0</td>\n",
              "      <td>0</td>\n",
              "      <td>0</td>\n",
              "      <td>0</td>\n",
              "      <td>0</td>\n",
              "      <td>0</td>\n",
              "      <td>0</td>\n",
              "      <td>0</td>\n",
              "      <td>0</td>\n",
              "      <td>2022</td>\n",
              "    </tr>\n",
              "    <tr>\n",
              "      <th>218864</th>\n",
              "      <td>218864</td>\n",
              "      <td>29.50</td>\n",
              "      <td>4</td>\n",
              "      <td>1.97</td>\n",
              "      <td>0.30</td>\n",
              "      <td>0.41</td>\n",
              "      <td>1.45</td>\n",
              "      <td>0.35</td>\n",
              "      <td>0.17</td>\n",
              "      <td>1.07</td>\n",
              "      <td>...</td>\n",
              "      <td>0</td>\n",
              "      <td>0</td>\n",
              "      <td>0</td>\n",
              "      <td>0</td>\n",
              "      <td>0</td>\n",
              "      <td>0</td>\n",
              "      <td>0</td>\n",
              "      <td>0</td>\n",
              "      <td>0</td>\n",
              "      <td>2022</td>\n",
              "    </tr>\n",
              "    <tr>\n",
              "      <th>218865</th>\n",
              "      <td>218865</td>\n",
              "      <td>29.75</td>\n",
              "      <td>4</td>\n",
              "      <td>2.22</td>\n",
              "      <td>0.30</td>\n",
              "      <td>0.41</td>\n",
              "      <td>1.45</td>\n",
              "      <td>0.88</td>\n",
              "      <td>0.17</td>\n",
              "      <td>1.26</td>\n",
              "      <td>...</td>\n",
              "      <td>0</td>\n",
              "      <td>0</td>\n",
              "      <td>0</td>\n",
              "      <td>0</td>\n",
              "      <td>0</td>\n",
              "      <td>0</td>\n",
              "      <td>0</td>\n",
              "      <td>0</td>\n",
              "      <td>0</td>\n",
              "      <td>2022</td>\n",
              "    </tr>\n",
              "    <tr>\n",
              "      <th>218866</th>\n",
              "      <td>218866</td>\n",
              "      <td>29.75</td>\n",
              "      <td>4</td>\n",
              "      <td>2.71</td>\n",
              "      <td>0.54</td>\n",
              "      <td>0.41</td>\n",
              "      <td>1.81</td>\n",
              "      <td>0.88</td>\n",
              "      <td>0.37</td>\n",
              "      <td>1.42</td>\n",
              "      <td>...</td>\n",
              "      <td>0</td>\n",
              "      <td>0</td>\n",
              "      <td>0</td>\n",
              "      <td>0</td>\n",
              "      <td>0</td>\n",
              "      <td>0</td>\n",
              "      <td>0</td>\n",
              "      <td>0</td>\n",
              "      <td>0</td>\n",
              "      <td>2022</td>\n",
              "    </tr>\n",
              "    <tr>\n",
              "      <th>218867</th>\n",
              "      <td>218867</td>\n",
              "      <td>29.75</td>\n",
              "      <td>4</td>\n",
              "      <td>3.60</td>\n",
              "      <td>0.90</td>\n",
              "      <td>0.41</td>\n",
              "      <td>2.50</td>\n",
              "      <td>0.88</td>\n",
              "      <td>0.51</td>\n",
              "      <td>1.89</td>\n",
              "      <td>...</td>\n",
              "      <td>0</td>\n",
              "      <td>0</td>\n",
              "      <td>0</td>\n",
              "      <td>0</td>\n",
              "      <td>0</td>\n",
              "      <td>0</td>\n",
              "      <td>0</td>\n",
              "      <td>0</td>\n",
              "      <td>0</td>\n",
              "      <td>2022</td>\n",
              "    </tr>\n",
              "  </tbody>\n",
              "</table>\n",
              "<p>218868 rows × 76 columns</p>\n",
              "</div>\n",
              "      <button class=\"colab-df-convert\" onclick=\"convertToInteractive('df-1d35a5f5-605b-469e-badd-7368ae904ae8')\"\n",
              "              title=\"Convert this dataframe to an interactive table.\"\n",
              "              style=\"display:none;\">\n",
              "        \n",
              "  <svg xmlns=\"http://www.w3.org/2000/svg\" height=\"24px\"viewBox=\"0 0 24 24\"\n",
              "       width=\"24px\">\n",
              "    <path d=\"M0 0h24v24H0V0z\" fill=\"none\"/>\n",
              "    <path d=\"M18.56 5.44l.94 2.06.94-2.06 2.06-.94-2.06-.94-.94-2.06-.94 2.06-2.06.94zm-11 1L8.5 8.5l.94-2.06 2.06-.94-2.06-.94L8.5 2.5l-.94 2.06-2.06.94zm10 10l.94 2.06.94-2.06 2.06-.94-2.06-.94-.94-2.06-.94 2.06-2.06.94z\"/><path d=\"M17.41 7.96l-1.37-1.37c-.4-.4-.92-.59-1.43-.59-.52 0-1.04.2-1.43.59L10.3 9.45l-7.72 7.72c-.78.78-.78 2.05 0 2.83L4 21.41c.39.39.9.59 1.41.59.51 0 1.02-.2 1.41-.59l7.78-7.78 2.81-2.81c.8-.78.8-2.07 0-2.86zM5.41 20L4 18.59l7.72-7.72 1.47 1.35L5.41 20z\"/>\n",
              "  </svg>\n",
              "      </button>\n",
              "      \n",
              "  <style>\n",
              "    .colab-df-container {\n",
              "      display:flex;\n",
              "      flex-wrap:wrap;\n",
              "      gap: 12px;\n",
              "    }\n",
              "\n",
              "    .colab-df-convert {\n",
              "      background-color: #E8F0FE;\n",
              "      border: none;\n",
              "      border-radius: 50%;\n",
              "      cursor: pointer;\n",
              "      display: none;\n",
              "      fill: #1967D2;\n",
              "      height: 32px;\n",
              "      padding: 0 0 0 0;\n",
              "      width: 32px;\n",
              "    }\n",
              "\n",
              "    .colab-df-convert:hover {\n",
              "      background-color: #E2EBFA;\n",
              "      box-shadow: 0px 1px 2px rgba(60, 64, 67, 0.3), 0px 1px 3px 1px rgba(60, 64, 67, 0.15);\n",
              "      fill: #174EA6;\n",
              "    }\n",
              "\n",
              "    [theme=dark] .colab-df-convert {\n",
              "      background-color: #3B4455;\n",
              "      fill: #D2E3FC;\n",
              "    }\n",
              "\n",
              "    [theme=dark] .colab-df-convert:hover {\n",
              "      background-color: #434B5C;\n",
              "      box-shadow: 0px 1px 3px 1px rgba(0, 0, 0, 0.15);\n",
              "      filter: drop-shadow(0px 1px 2px rgba(0, 0, 0, 0.3));\n",
              "      fill: #FFFFFF;\n",
              "    }\n",
              "  </style>\n",
              "\n",
              "      <script>\n",
              "        const buttonEl =\n",
              "          document.querySelector('#df-1d35a5f5-605b-469e-badd-7368ae904ae8 button.colab-df-convert');\n",
              "        buttonEl.style.display =\n",
              "          google.colab.kernel.accessAllowed ? 'block' : 'none';\n",
              "\n",
              "        async function convertToInteractive(key) {\n",
              "          const element = document.querySelector('#df-1d35a5f5-605b-469e-badd-7368ae904ae8');\n",
              "          const dataTable =\n",
              "            await google.colab.kernel.invokeFunction('convertToInteractive',\n",
              "                                                     [key], {});\n",
              "          if (!dataTable) return;\n",
              "\n",
              "          const docLinkHtml = 'Like what you see? Visit the ' +\n",
              "            '<a target=\"_blank\" href=https://colab.research.google.com/notebooks/data_table.ipynb>data table notebook</a>'\n",
              "            + ' to learn more about interactive tables.';\n",
              "          element.innerHTML = '';\n",
              "          dataTable['output_type'] = 'display_data';\n",
              "          await google.colab.output.renderOutput(dataTable, element);\n",
              "          const docLink = document.createElement('div');\n",
              "          docLink.innerHTML = docLinkHtml;\n",
              "          element.appendChild(docLink);\n",
              "        }\n",
              "      </script>\n",
              "    </div>\n",
              "  </div>\n",
              "  "
            ]
          },
          "metadata": {},
          "execution_count": 2
        }
      ],
      "source": [
        "dataset_features = pd.read_csv(\"/content/drive/MyDrive/dataset-processado/dataset_features.csv\")\n",
        "dataset_features"
      ]
    },
    {
      "cell_type": "markdown",
      "metadata": {
        "id": "3x2P3Ztx2lWe"
      },
      "source": [
        "### 2. Seleção das Features e Labels"
      ]
    },
    {
      "cell_type": "markdown",
      "metadata": {
        "id": "V6SlWGkYIL0m"
      },
      "source": [
        "Nessa parte definimos as varíaveis dependentes (y) e variáveis indepentes (x) que foram utilizadas nos modelos de predição. "
      ]
    },
    {
      "cell_type": "code",
      "execution_count": null,
      "metadata": {
        "colab": {
          "base_uri": "https://localhost:8080/"
        },
        "id": "g18U3AUxA2hM",
        "outputId": "dfb9558a-bcc0-49b6-c05c-0ce74df03958"
      },
      "outputs": [
        {
          "output_type": "stream",
          "name": "stderr",
          "text": [
            "/usr/local/lib/python3.7/dist-packages/ipykernel_launcher.py:41: SettingWithCopyWarning: \n",
            "A value is trying to be set on a copy of a slice from a DataFrame.\n",
            "Try using .loc[row_indexer,col_indexer] = value instead\n",
            "\n",
            "See the caveats in the documentation: https://pandas.pydata.org/pandas-docs/stable/user_guide/indexing.html#returning-a-view-versus-a-copy\n"
          ]
        }
      ],
      "source": [
        "from sklearn.model_selection import train_test_split\n",
        "\n",
        "# features a serem utilizadas\n",
        "X = dataset_features[['Hora Início','Dia da Semana','Mês','Dia', 'Feriado', 'Categoria_CARROS E MOTORES', 'Categoria_CULINARIO', 'Categoria_DEBATE',  \n",
        "       'Categoria_DOCUMENTARIO', 'Categoria_EDUCATIVO', 'Categoria_ENTREVISTA',\n",
        "       'Categoria_ESPORTE', 'Categoria_FEMININO', 'Categoria_FILME',\n",
        "       'Categoria_FUTEBOL', 'Categoria_GAME SHOW', 'Categoria_HUMORISTICO',\n",
        "       'Categoria_JORNALISMO', 'Categoria_MINISSERIE', 'Categoria_MUSICAL',\n",
        "       'Categoria_NOVELA', 'Categoria_OUTROS', 'Categoria_POLITICO',\n",
        "       'Categoria_PREMIACAO', 'Categoria_REALITY SHOW', 'Categoria_RELIGIOSO',\n",
        "       'Categoria_REPORTAGEM', 'Categoria_RURAL', 'Categoria_SERIES',\n",
        "       'Categoria_SHOW', 'Categoria_SORTEIO', 'Categoria_TELE VENDAS']]\n",
        "\n",
        "X_sem_categoria = dataset_features[['Hora Início','Dia da Semana','Mês','Dia', 'Feriado']]\n",
        "\n",
        "X_somente_categoria = dataset_features[['Categoria_CARROS E MOTORES', 'Categoria_CULINARIO', 'Categoria_DEBATE',  \n",
        "       'Categoria_DOCUMENTARIO', 'Categoria_EDUCATIVO', 'Categoria_ENTREVISTA',\n",
        "       'Categoria_ESPORTE', 'Categoria_FEMININO', 'Categoria_FILME',\n",
        "       'Categoria_FUTEBOL', 'Categoria_GAME SHOW', 'Categoria_HUMORISTICO',\n",
        "       'Categoria_JORNALISMO', 'Categoria_MINISSERIE', 'Categoria_MUSICAL',\n",
        "       'Categoria_NOVELA', 'Categoria_OUTROS', 'Categoria_POLITICO',\n",
        "       'Categoria_PREMIACAO', 'Categoria_REALITY SHOW', 'Categoria_RELIGIOSO',\n",
        "       'Categoria_REPORTAGEM', 'Categoria_RURAL', 'Categoria_SERIES',\n",
        "       'Categoria_SHOW', 'Categoria_SORTEIO', 'Categoria_TELE VENDAS']]\n",
        "\n",
        "\n",
        "# labels a serem utilizadas\n",
        "y_rat = dataset_features[['Total Domicílios | Rat%', 'AB | Rat%',\n",
        "       'C1 | Rat%', 'C2 | Rat%', 'DE | Rat%', 'Masculino | Rat%',\n",
        "       'Feminino | Rat%', '4-11 anos | Rat%', '12-17 anos | Rat%',\n",
        "       '18-24 anos | Rat%', '25-34 anos | Rat%', '35-49 anos | Rat%',\n",
        "       '50-59 anos | Rat%', '60+ anos | Rat%']]\n",
        "\n",
        "# TODO: Change to fid and share columns\n",
        "y_fid = dataset_features[[\n",
        "       'Total Indivíduos | Fid%', 'AB | Fid%', 'C1 | Fid%', 'C2 | Fid%',\n",
        "       'DE | Fid%', 'Masculino | Fid%', 'Feminino | Fid%', '4-11 anos | Fid%',\n",
        "       '12-17 anos | Fid%', '18-24 anos | Fid%', '25-34 anos | Fid%',\n",
        "       '35-49 anos | Fid%', '50-59 anos | Fid%', '60+ anos | Fid%']]\n",
        "\n",
        "y_fid['Total Indivíduos | Fid%'] = y_fid['Total Indivíduos | Fid%'].str.replace(',','.').astype('float64')\n",
        "\n",
        "y_share = dataset_features[['Total Domicílios | Shr%', 'AB | Shr%', 'C1 | Shr%', 'C2 | Shr%',\n",
        "       'DE | Shr%', 'Masculino | Shr%', 'Feminino | Shr%', '4-11 anos | Shr%',\n",
        "       '12-17 anos | Shr%', '18-24 anos | Shr%', '25-34 anos | Shr%',\n",
        "       '35-49 anos | Shr%', '50-59 anos | Shr%', '60+ anos | Shr%']]"
      ]
    },
    {
      "cell_type": "markdown",
      "metadata": {
        "id": "hj8E7_vz2vNE"
      },
      "source": [
        "### 2.1 Separação entre features/labels de teste e features/labels de validação"
      ]
    },
    {
      "cell_type": "markdown",
      "metadata": {
        "id": "L5Ow9bNGIxR6"
      },
      "source": []
    },
    {
      "cell_type": "code",
      "execution_count": null,
      "metadata": {
        "id": "esT1KsT128Ey"
      },
      "outputs": [],
      "source": [
        "X_train, X_test, y_train_rat, y_test_rat = train_test_split(X,y_rat, random_state=42)\n",
        "_, _, y_train_share, y_test_share = train_test_split(X,y_share, random_state=42)\n",
        "_, _, y_train_fid, y_test_fid = train_test_split(X,y_fid, random_state=42)"
      ]
    },
    {
      "cell_type": "markdown",
      "metadata": {
        "id": "U3ZZKqzSMRZT"
      },
      "source": [
        "### 3. Modelos de Regressão\n",
        "import das bibliotecas necessárias"
      ]
    },
    {
      "cell_type": "code",
      "execution_count": null,
      "metadata": {
        "id": "oxoVn8k1MX0r"
      },
      "outputs": [],
      "source": [
        "# Modelos\n",
        "from sklearn.tree import DecisionTreeRegressor\n",
        "\n",
        "# Métricas de Avaliação\n",
        "from sklearn.metrics import r2_score, mean_squared_error"
      ]
    },
    {
      "cell_type": "markdown",
      "metadata": {
        "id": "rwVLseK4VPJ7"
      },
      "source": [
        "### 3.1 Árvore de Decisão"
      ]
    },
    {
      "cell_type": "code",
      "execution_count": null,
      "metadata": {
        "id": "au2iJ0blVad_"
      },
      "outputs": [],
      "source": [
        "modelo_AD_rat = DecisionTreeRegressor(max_depth=200000)\n",
        "modelo_AD_share = DecisionTreeRegressor()\n",
        "modelo_AD_fid = DecisionTreeRegressor()\n",
        "\n",
        "modelo_AD_rat.fit(X_train,y_train_rat)\n",
        "modelo_AD_share.fit(X_train,y_train_share)\n",
        "modelo_AD_fid.fit(X_train,y_train_fid)\n",
        "\n",
        "y_pred_ad_train_rat = modelo_AD_rat.predict(X_train)\n",
        "y_pred_ad_test_rat = modelo_AD_rat.predict(X_test)\n",
        "\n",
        "\n",
        "y_pred_ad_train_share = modelo_AD_share.predict(X_train)\n",
        "y_pred_ad_test_share = modelo_AD_share.predict(X_test)\n",
        "\n",
        "\n",
        "y_pred_ad_train_fid = modelo_AD_fid.predict(X_train)\n",
        "y_pred_ad_test_fid = modelo_AD_fid.predict(X_test)"
      ]
    },
    {
      "cell_type": "code",
      "execution_count": null,
      "metadata": {
        "colab": {
          "base_uri": "https://localhost:8080/"
        },
        "id": "XxqofMXxV2oE",
        "outputId": "75c9cfc4-e655-4873-c4a0-dd27991bec00"
      },
      "outputs": [
        {
          "output_type": "stream",
          "name": "stdout",
          "text": [
            "\n",
            "\n",
            "## Rat %\n",
            "Precisão (treino):  0.9889128421968543\n",
            "Mean Squared Error (Treino):  0.16004108534213854\n",
            "Precisão (teste):  0.935137743311509\n",
            "Mean Squared Error (teste):  0.9438193767621081\n",
            "\n",
            "\n",
            "## share %\n",
            "Precisão (treino):  0.9704873488829692\n",
            "Mean Squared Error (Treino):  10.022730618795732\n",
            "Precisão (teste):  0.8752350306927694\n",
            "Mean Squared Error (teste):  41.98885228416658\n",
            "\n",
            "\n",
            "## fid %\n",
            "Precisão (treino):  0.8642734304934784\n",
            "Mean Squared Error (Treino):  57.87704719871023\n",
            "Precisão (teste):  0.5262023324524845\n",
            "Mean Squared Error (teste):  211.36020436458605\n"
          ]
        }
      ],
      "source": [
        "# Rat Scores\n",
        "ad_r2_score_train_rat = r2_score(y_train_rat, y_pred_ad_train_rat)\n",
        "ad_r2_score_test_rat = r2_score(y_test_rat, y_pred_ad_test_rat)\n",
        "\n",
        "ad_mean_train_score_rat = mean_squared_error(y_train_rat, y_pred_ad_train_rat)\n",
        "ad_mean_test_score_rat = mean_squared_error(y_test_rat, y_pred_ad_test_rat)\n",
        "\n",
        "# Share Scores\n",
        "ad_r2_score_train_share = r2_score(y_train_share, y_pred_ad_train_share)\n",
        "ad_r2_score_test_share = r2_score(y_test_share, y_pred_ad_test_share)\n",
        "\n",
        "ad_mean_train_score_share = mean_squared_error(y_train_share, y_pred_ad_train_share)\n",
        "ad_mean_test_score_share = mean_squared_error(y_test_share, y_pred_ad_test_share)\n",
        "\n",
        "\n",
        "# Fid Scores\n",
        "ad_r2_score_train_fid = r2_score(y_train_fid, y_pred_ad_train_fid)\n",
        "ad_r2_score_test_fid = r2_score(y_test_fid, y_pred_ad_test_fid)\n",
        "\n",
        "ad_mean_train_score_fid = mean_squared_error(y_train_fid, y_pred_ad_train_fid)\n",
        "ad_mean_test_score_fid = mean_squared_error(y_test_fid, y_pred_ad_test_fid)\n",
        "\n",
        "\n",
        "\n",
        "print(\"\\n\\n## Rat %\")\n",
        "print('Precisão (treino): ', ad_r2_score_train_rat)\n",
        "print('Mean Squared Error (Treino): ', ad_mean_train_score_rat)\n",
        "print('Precisão (teste): ', ad_r2_score_test_rat)\n",
        "print('Mean Squared Error (teste): ', ad_mean_test_score_rat)\n",
        "\n",
        "print(\"\\n\\n## share %\")\n",
        "print('Precisão (treino): ', ad_r2_score_train_share)\n",
        "print('Mean Squared Error (Treino): ', ad_mean_train_score_share)\n",
        "print('Precisão (teste): ', ad_r2_score_test_share)\n",
        "print('Mean Squared Error (teste): ', ad_mean_test_score_share)\n",
        "\n",
        "print(\"\\n\\n## fid %\")\n",
        "print('Precisão (treino): ', ad_r2_score_train_fid)\n",
        "print('Mean Squared Error (Treino): ', ad_mean_train_score_fid)\n",
        "print('Precisão (teste): ', ad_r2_score_test_fid)\n",
        "print('Mean Squared Error (teste): ', ad_mean_test_score_fid)"
      ]
    },
    {
      "cell_type": "markdown",
      "source": [
        "### 3.1 GridSearch"
      ],
      "metadata": {
        "id": "BwCWYm4_C5Y1"
      }
    },
    {
      "cell_type": "code",
      "source": [
        "from sklearn.model_selection import GridSearchCV\n",
        "\n",
        "parameters = {}\n",
        "\n",
        "modelo_AD_rat = DecisionTreeRegressor(min_samples_leaf=2, max_depth=2000)\n",
        "modelo_AD_rat = GridSearchCV(modelo_AD_rat, parameters)\n",
        "modelo_AD_share = DecisionTreeRegressor(min_samples_leaf=2, max_depth=2000)\n",
        "modelo_AD_share = GridSearchCV(modelo_AD_share, parameters)\n",
        "modelo_AD_fid = DecisionTreeRegressor(min_samples_leaf=2, max_depth=2000)\n",
        "modelo_AD_fid = GridSearchCV(modelo_AD_fid, parameters)\n",
        "\n",
        "modelo_AD_rat.fit(X_train,y_train_rat)\n",
        "modelo_AD_share.fit(X_train,y_train_share)\n",
        "modelo_AD_fid.fit(X_train,y_train_fid)\n",
        "\n",
        "y_pred_ad_train_rat = modelo_AD_rat.predict(X_train)\n",
        "y_pred_ad_test_rat = modelo_AD_rat.predict(X_test)\n",
        "\n",
        "\n",
        "y_pred_ad_train_share = modelo_AD_share.predict(X_train)\n",
        "y_pred_ad_test_share = modelo_AD_share.predict(X_test)\n",
        "\n",
        "\n",
        "y_pred_ad_train_fid = modelo_AD_fid.predict(X_train)\n",
        "y_pred_ad_test_fid = modelo_AD_fid.predict(X_test)\n",
        "\n",
        "\n",
        "# Rat Scores\n",
        "ad_r2_score_train_rat = r2_score(y_train_rat, y_pred_ad_train_rat)\n",
        "ad_r2_score_test_rat = r2_score(y_test_rat, y_pred_ad_test_rat)\n",
        "\n",
        "ad_mean_train_score_rat = mean_squared_error(y_train_rat, y_pred_ad_train_rat)\n",
        "ad_mean_test_score_rat = mean_squared_error(y_test_rat, y_pred_ad_test_rat)\n",
        "\n",
        "# Share Scores\n",
        "ad_r2_score_train_share = r2_score(y_train_share, y_pred_ad_train_share)\n",
        "ad_r2_score_test_share = r2_score(y_test_share, y_pred_ad_test_share)\n",
        "\n",
        "ad_mean_train_score_share = mean_squared_error(y_train_share, y_pred_ad_train_share)\n",
        "ad_mean_test_score_share = mean_squared_error(y_test_share, y_pred_ad_test_share)\n",
        "\n",
        "\n",
        "# Fid Scores\n",
        "ad_r2_score_train_fid = r2_score(y_train_fid, y_pred_ad_train_fid)\n",
        "ad_r2_score_test_fid = r2_score(y_test_fid, y_pred_ad_test_fid)\n",
        "\n",
        "ad_mean_train_score_fid = mean_squared_error(y_train_fid, y_pred_ad_train_fid)\n",
        "ad_mean_test_score_fid = mean_squared_error(y_test_fid, y_pred_ad_test_fid)\n",
        "\n",
        "\n",
        "\n",
        "print(\"\\n\\n## Rat %\")\n",
        "print('Precisão (treino): ', ad_r2_score_train_rat)\n",
        "print('Mean Squared Error (Treino): ', ad_mean_train_score_rat)\n",
        "print('Precisão (teste): ', ad_r2_score_test_rat)\n",
        "print('Mean Squared Error (teste): ', ad_mean_test_score_rat)\n",
        "\n",
        "print(\"\\n\\n## share %\")\n",
        "print('Precisão (treino): ', ad_r2_score_train_share)\n",
        "print('Mean Squared Error (Treino): ', ad_mean_train_score_share)\n",
        "print('Precisão (teste): ', ad_r2_score_test_share)\n",
        "print('Mean Squared Error (teste): ', ad_mean_test_score_share)\n",
        "\n",
        "print(\"\\n\\n## fid %\")\n",
        "print('Precisão (treino): ', ad_r2_score_train_fid)\n",
        "print('Mean Squared Error (Treino): ', ad_mean_train_score_fid)\n",
        "print('Precisão (teste): ', ad_r2_score_test_fid)\n",
        "print('Mean Squared Error (teste): ', ad_mean_test_score_fid)"
      ],
      "metadata": {
        "colab": {
          "base_uri": "https://localhost:8080/"
        },
        "id": "fcvP2duRDMtK",
        "outputId": "5935edda-b995-494c-d7db-a59ded6c8e35"
      },
      "execution_count": null,
      "outputs": [
        {
          "output_type": "stream",
          "name": "stdout",
          "text": [
            "\n",
            "\n",
            "## Rat %\n",
            "Precisão (treino):  0.9761792503843711\n",
            "Mean Squared Error (Treino):  0.34137350024263846\n",
            "Precisão (teste):  0.9131917946980038\n",
            "Mean Squared Error (teste):  1.2522602095553665\n",
            "\n",
            "\n",
            "## share %\n",
            "Precisão (treino):  0.9545173831951995\n",
            "Mean Squared Error (Treino):  15.338796053677951\n",
            "Precisão (teste):  0.8534310673187623\n",
            "Mean Squared Error (teste):  49.3749929987711\n",
            "\n",
            "\n",
            "## fid %\n",
            "Precisão (treino):  0.8331635229792294\n",
            "Mean Squared Error (Treino):  74.96123972754064\n",
            "Precisão (teste):  0.5635391013402113\n",
            "Mean Squared Error (teste):  210.63065166001007\n"
          ]
        }
      ]
    },
    {
      "cell_type": "code",
      "source": [
        "# modelo_AD_rat.best_params_"
      ],
      "metadata": {
        "id": "MAyoOO94GUbF"
      },
      "execution_count": null,
      "outputs": []
    },
    {
      "cell_type": "code",
      "source": [
        "import matplotlib.pyplot as plt\n",
        "\n",
        "modelo_comparison_train = pd.Series([ad_r2_score_train_rat, ad_r2_score_train_share, ad_r2_score_train_fid], ['Rat%', 'Share%', 'Fid'])\n",
        "modelo_comparison_train.plot.barh(rot=15, title=\"Comparação da precisão (Treino)\", color=['mediumpurple', 'mediumpurple', 'mediumpurple'], edgecolor='slateblue');\n",
        "ax = plt.axes()\n",
        "ax.set_facecolor(\"white\")\n",
        "plt_1 = plt.figure(figsize=(10, 5))\n",
        "plt.show(block=True);"
      ],
      "metadata": {
        "id": "2sKTgiNCRfva",
        "colab": {
          "base_uri": "https://localhost:8080/",
          "height": 353
        },
        "outputId": "c316b4e4-cdbe-421d-d180-6b4690199736"
      },
      "execution_count": null,
      "outputs": [
        {
          "output_type": "stream",
          "name": "stderr",
          "text": [
            "/usr/local/lib/python3.7/dist-packages/ipykernel_launcher.py:5: MatplotlibDeprecationWarning: Adding an axes using the same arguments as a previous axes currently reuses the earlier instance.  In a future version, a new instance will always be created and returned.  Meanwhile, this warning can be suppressed, and the future behavior ensured, by passing a unique label to each axes instance.\n",
            "  \"\"\"\n"
          ]
        },
        {
          "output_type": "display_data",
          "data": {
            "text/plain": [
              "<Figure size 432x288 with 1 Axes>"
            ],
            "image/png": "[encoded data removed]"
          },
          "metadata": {
            "needs_background": "light"
          }
        },
        {
          "output_type": "display_data",
          "data": {
            "text/plain": [
              "<Figure size 720x360 with 0 Axes>"
            ]
          },
          "metadata": {}
        }
      ]
    },
    {
      "cell_type": "code",
      "source": [
        "modelo_comparison_test = pd.Series([ad_mean_test_score_rat, ad_r2_score_test_share, ad_r2_score_test_fid], ['Rat%', 'Share%', 'Fid'])\n",
        "modelo_comparison_test.plot.barh(rot=15, title=\"Comparação da precisão (Teste)\", color=['mediumpurple', 'mediumpurple', 'mediumpurple'], edgecolor='slateblue');\n",
        "ax = plt.axes()\n",
        "ax.set_facecolor(\"white\")\n",
        "plt.show(block=True);\n"
      ],
      "metadata": {
        "colab": {
          "base_uri": "https://localhost:8080/",
          "height": 336
        },
        "id": "5azIbTIOQaqP",
        "outputId": "254147ac-5c76-4a68-b361-11302fd3bbbb"
      },
      "execution_count": null,
      "outputs": [
        {
          "output_type": "stream",
          "name": "stderr",
          "text": [
            "/usr/local/lib/python3.7/dist-packages/ipykernel_launcher.py:3: MatplotlibDeprecationWarning: Adding an axes using the same arguments as a previous axes currently reuses the earlier instance.  In a future version, a new instance will always be created and returned.  Meanwhile, this warning can be suppressed, and the future behavior ensured, by passing a unique label to each axes instance.\n",
            "  This is separate from the ipykernel package so we can avoid doing imports until\n"
          ]
        },
        {
          "output_type": "display_data",
          "data": {
            "text/plain": [
              "<Figure size 432x288 with 1 Axes>"
            ],
            "image/png": "[encoded data removed]"
          },
          "metadata": {
            "needs_background": "light"
          }
        }
      ]
    },
    {
      "cell_type": "code",
      "source": [
        "modelo_comparison_mse_train = pd.Series([ad_mean_train_score_rat, ad_mean_train_score_share, ad_mean_train_score_fid], ['Rat%', 'Share%', 'Fid'])\n",
        "modelo_comparison_mse_train.plot.barh(rot=15, title=\"Comparação do MSE (Treino)\",color=['mediumpurple', 'mediumpurple', 'mediumpurple'], edgecolor='slateblue');\n",
        "ax = plt.axes()\n",
        "ax.set_facecolor(\"white\")\n",
        "plt.show(block=True);"
      ],
      "metadata": {
        "colab": {
          "base_uri": "https://localhost:8080/",
          "height": 336
        },
        "id": "xROKh382StLf",
        "outputId": "0d3c1e32-4e03-48ed-ce03-b96553848be1"
      },
      "execution_count": null,
      "outputs": [
        {
          "output_type": "stream",
          "name": "stderr",
          "text": [
            "/usr/local/lib/python3.7/dist-packages/ipykernel_launcher.py:3: MatplotlibDeprecationWarning: Adding an axes using the same arguments as a previous axes currently reuses the earlier instance.  In a future version, a new instance will always be created and returned.  Meanwhile, this warning can be suppressed, and the future behavior ensured, by passing a unique label to each axes instance.\n",
            "  This is separate from the ipykernel package so we can avoid doing imports until\n"
          ]
        },
        {
          "output_type": "display_data",
          "data": {
            "text/plain": [
              "<Figure size 432x288 with 1 Axes>"
            ],
            "image/png": "[encoded data removed]"
          },
          "metadata": {
            "needs_background": "light"
          }
        }
      ]
    },
    {
      "cell_type": "code",
      "source": [
        "modelo_comparison_mse_test = pd.Series([ad_mean_test_score_rat, ad_mean_test_score_share, ad_mean_test_score_fid], ['Rat%', 'Share%', 'Fid'])\n",
        "modelo_comparison_mse_test.plot.barh(rot=15, title=\"Comparação do MSE (Teste)\", color=['mediumpurple', 'mediumpurple', 'mediumpurple'], edgecolor='slateblue');\n",
        "ax = plt.axes()\n",
        "ax.set_facecolor(\"white\")\n",
        "plt.show(block=True);"
      ],
      "metadata": {
        "colab": {
          "base_uri": "https://localhost:8080/",
          "height": 336
        },
        "id": "KeYxydhyTW2y",
        "outputId": "7c7c91f2-3943-408d-ee9c-4764721b961a"
      },
      "execution_count": null,
      "outputs": [
        {
          "output_type": "stream",
          "name": "stderr",
          "text": [
            "/usr/local/lib/python3.7/dist-packages/ipykernel_launcher.py:3: MatplotlibDeprecationWarning: Adding an axes using the same arguments as a previous axes currently reuses the earlier instance.  In a future version, a new instance will always be created and returned.  Meanwhile, this warning can be suppressed, and the future behavior ensured, by passing a unique label to each axes instance.\n",
            "  This is separate from the ipykernel package so we can avoid doing imports until\n"
          ]
        },
        {
          "output_type": "display_data",
          "data": {
            "text/plain": [
              "<Figure size 432x288 with 1 Axes>"
            ],
            "image/png": "[encoded data removed]"
          },
          "metadata": {
            "needs_background": "light"
          }
        }
      ]
    }
  ]
}