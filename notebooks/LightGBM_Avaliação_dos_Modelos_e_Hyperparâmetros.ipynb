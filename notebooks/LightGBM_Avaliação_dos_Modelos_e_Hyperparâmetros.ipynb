{
  "cells": [
    {
      "cell_type": "code",
      "execution_count": null,
      "metadata": {
        "id": "OH1I0eyc4jny"
      },
      "outputs": [],
      "source": [
        "import pandas as pd\n",
        "import numpy as np\n",
        "import lightgbm as lgb"
      ]
    },
    {
      "cell_type": "markdown",
      "metadata": {
        "id": "bk8IY0al4dSE"
      },
      "source": [
        "### 1. Carregamento dos Dados"
      ]
    },
    {
      "cell_type": "code",
      "execution_count": null,
      "metadata": {
        "id": "kUCgtsWh1yp3",
        "colab": {
          "base_uri": "https://localhost:8080/",
          "height": 522
        },
        "outputId": "5eca700a-b1ef-45a1-ec6a-c8e6d90261f2"
      },
      "outputs": [
        {
          "output_type": "execute_result",
          "data": {
            "text/plain": [
              "        Unnamed: 0  Hora Início  Dia da Semana  Total Domicílios | Rat%  \\\n",
              "0                0         6.00              1                     4.27   \n",
              "1                1         6.00              1                     4.89   \n",
              "2                2         6.00              1                     5.74   \n",
              "3                3         6.25              1                     6.55   \n",
              "4                4         6.25              1                     7.27   \n",
              "...            ...          ...            ...                      ...   \n",
              "218863      218863        29.50              4                     1.67   \n",
              "218864      218864        29.50              4                     1.97   \n",
              "218865      218865        29.75              4                     2.22   \n",
              "218866      218866        29.75              4                     2.71   \n",
              "218867      218867        29.75              4                     3.60   \n",
              "\n",
              "        AB | Rat%  C1 | Rat%  C2 | Rat%  DE | Rat%  Masculino | Rat%  \\\n",
              "0            2.40       0.31       0.82       5.23              1.65   \n",
              "1            3.02       0.51       1.08       5.23              1.89   \n",
              "2            3.13       1.53       1.22       5.23              1.97   \n",
              "3            3.06       1.86       1.48       6.46              1.92   \n",
              "4            3.49       2.18       1.48       6.46              2.23   \n",
              "...           ...        ...        ...        ...               ...   \n",
              "218863       0.30       0.41       1.03       0.53              0.17   \n",
              "218864       0.30       0.41       1.45       0.35              0.17   \n",
              "218865       0.30       0.41       1.45       0.88              0.17   \n",
              "218866       0.54       0.41       1.81       0.88              0.37   \n",
              "218867       0.90       0.41       2.50       0.88              0.51   \n",
              "\n",
              "        Feminino | Rat%  ...  Categoria_REALITY SHOW  Categoria_RELIGIOSO  \\\n",
              "0                  2.35  ...                       0                    0   \n",
              "1                  2.75  ...                       0                    0   \n",
              "2                  3.24  ...                       0                    0   \n",
              "3                  3.92  ...                       0                    0   \n",
              "4                  4.05  ...                       0                    0   \n",
              "...                 ...  ...                     ...                  ...   \n",
              "218863             0.92  ...                       0                    0   \n",
              "218864             1.07  ...                       0                    0   \n",
              "218865             1.26  ...                       0                    0   \n",
              "218866             1.42  ...                       0                    0   \n",
              "218867             1.89  ...                       0                    0   \n",
              "\n",
              "        Categoria_REPORTAGEM  Categoria_RURAL  Categoria_SERIES  \\\n",
              "0                          0                0                 0   \n",
              "1                          0                0                 0   \n",
              "2                          0                0                 0   \n",
              "3                          0                0                 0   \n",
              "4                          0                0                 0   \n",
              "...                      ...              ...               ...   \n",
              "218863                     0                0                 0   \n",
              "218864                     0                0                 0   \n",
              "218865                     0                0                 0   \n",
              "218866                     0                0                 0   \n",
              "218867                     0                0                 0   \n",
              "\n",
              "        Categoria_SHOW  Categoria_SORTEIO  Categoria_TELE VENDAS  Feriado  \\\n",
              "0                    0                  0                      0        0   \n",
              "1                    0                  0                      0        0   \n",
              "2                    0                  0                      0        0   \n",
              "3                    0                  0                      0        0   \n",
              "4                    0                  0                      0        0   \n",
              "...                ...                ...                    ...      ...   \n",
              "218863               0                  0                      0        0   \n",
              "218864               0                  0                      0        0   \n",
              "218865               0                  0                      0        0   \n",
              "218866               0                  0                      0        0   \n",
              "218867               0                  0                      0        0   \n",
              "\n",
              "         Ano  \n",
              "0       2020  \n",
              "1       2020  \n",
              "2       2020  \n",
              "3       2020  \n",
              "4       2020  \n",
              "...      ...  \n",
              "218863  2022  \n",
              "218864  2022  \n",
              "218865  2022  \n",
              "218866  2022  \n",
              "218867  2022  \n",
              "\n",
              "[218868 rows x 76 columns]"
            ],
            "text/html": [
              "\n",
              "  <div id=\"df-4e445e58-633e-4f99-a4f1-4d9cfde1786d\">\n",
              "    <div class=\"colab-df-container\">\n",
              "      <div>\n",
              "<style scoped>\n",
              "    .dataframe tbody tr th:only-of-type {\n",
              "        vertical-align: middle;\n",
              "    }\n",
              "\n",
              "    .dataframe tbody tr th {\n",
              "        vertical-align: top;\n",
              "    }\n",
              "\n",
              "    .dataframe thead th {\n",
              "        text-align: right;\n",
              "    }\n",
              "</style>\n",
              "<table border=\"1\" class=\"dataframe\">\n",
              "  <thead>\n",
              "    <tr style=\"text-align: right;\">\n",
              "      <th></th>\n",
              "      <th>Unnamed: 0</th>\n",
              "      <th>Hora Início</th>\n",
              "      <th>Dia da Semana</th>\n",
              "      <th>Total Domicílios | Rat%</th>\n",
              "      <th>AB | Rat%</th>\n",
              "      <th>C1 | Rat%</th>\n",
              "      <th>C2 | Rat%</th>\n",
              "      <th>DE | Rat%</th>\n",
              "      <th>Masculino | Rat%</th>\n",
              "      <th>Feminino | Rat%</th>\n",
              "      <th>...</th>\n",
              "      <th>Categoria_REALITY SHOW</th>\n",
              "      <th>Categoria_RELIGIOSO</th>\n",
              "      <th>Categoria_REPORTAGEM</th>\n",
              "      <th>Categoria_RURAL</th>\n",
              "      <th>Categoria_SERIES</th>\n",
              "      <th>Categoria_SHOW</th>\n",
              "      <th>Categoria_SORTEIO</th>\n",
              "      <th>Categoria_TELE VENDAS</th>\n",
              "      <th>Feriado</th>\n",
              "      <th>Ano</th>\n",
              "    </tr>\n",
              "  </thead>\n",
              "  <tbody>\n",
              "    <tr>\n",
              "      <th>0</th>\n",
              "      <td>0</td>\n",
              "      <td>6.00</td>\n",
              "      <td>1</td>\n",
              "      <td>4.27</td>\n",
              "      <td>2.40</td>\n",
              "      <td>0.31</td>\n",
              "      <td>0.82</td>\n",
              "      <td>5.23</td>\n",
              "      <td>1.65</td>\n",
              "      <td>2.35</td>\n",
              "      <td>...</td>\n",
              "      <td>0</td>\n",
              "      <td>0</td>\n",
              "      <td>0</td>\n",
              "      <td>0</td>\n",
              "      <td>0</td>\n",
              "      <td>0</td>\n",
              "      <td>0</td>\n",
              "      <td>0</td>\n",
              "      <td>0</td>\n",
              "      <td>2020</td>\n",
              "    </tr>\n",
              "    <tr>\n",
              "      <th>1</th>\n",
              "      <td>1</td>\n",
              "      <td>6.00</td>\n",
              "      <td>1</td>\n",
              "      <td>4.89</td>\n",
              "      <td>3.02</td>\n",
              "      <td>0.51</td>\n",
              "      <td>1.08</td>\n",
              "      <td>5.23</td>\n",
              "      <td>1.89</td>\n",
              "      <td>2.75</td>\n",
              "      <td>...</td>\n",
              "      <td>0</td>\n",
              "      <td>0</td>\n",
              "      <td>0</td>\n",
              "      <td>0</td>\n",
              "      <td>0</td>\n",
              "      <td>0</td>\n",
              "      <td>0</td>\n",
              "      <td>0</td>\n",
              "      <td>0</td>\n",
              "      <td>2020</td>\n",
              "    </tr>\n",
              "    <tr>\n",
              "      <th>2</th>\n",
              "      <td>2</td>\n",
              "      <td>6.00</td>\n",
              "      <td>1</td>\n",
              "      <td>5.74</td>\n",
              "      <td>3.13</td>\n",
              "      <td>1.53</td>\n",
              "      <td>1.22</td>\n",
              "      <td>5.23</td>\n",
              "      <td>1.97</td>\n",
              "      <td>3.24</td>\n",
              "      <td>...</td>\n",
              "      <td>0</td>\n",
              "      <td>0</td>\n",
              "      <td>0</td>\n",
              "      <td>0</td>\n",
              "      <td>0</td>\n",
              "      <td>0</td>\n",
              "      <td>0</td>\n",
              "      <td>0</td>\n",
              "      <td>0</td>\n",
              "      <td>2020</td>\n",
              "    </tr>\n",
              "    <tr>\n",
              "      <th>3</th>\n",
              "      <td>3</td>\n",
              "      <td>6.25</td>\n",
              "      <td>1</td>\n",
              "      <td>6.55</td>\n",
              "      <td>3.06</td>\n",
              "      <td>1.86</td>\n",
              "      <td>1.48</td>\n",
              "      <td>6.46</td>\n",
              "      <td>1.92</td>\n",
              "      <td>3.92</td>\n",
              "      <td>...</td>\n",
              "      <td>0</td>\n",
              "      <td>0</td>\n",
              "      <td>0</td>\n",
              "      <td>0</td>\n",
              "      <td>0</td>\n",
              "      <td>0</td>\n",
              "      <td>0</td>\n",
              "      <td>0</td>\n",
              "      <td>0</td>\n",
              "      <td>2020</td>\n",
              "    </tr>\n",
              "    <tr>\n",
              "      <th>4</th>\n",
              "      <td>4</td>\n",
              "      <td>6.25</td>\n",
              "      <td>1</td>\n",
              "      <td>7.27</td>\n",
              "      <td>3.49</td>\n",
              "      <td>2.18</td>\n",
              "      <td>1.48</td>\n",
              "      <td>6.46</td>\n",
              "      <td>2.23</td>\n",
              "      <td>4.05</td>\n",
              "      <td>...</td>\n",
              "      <td>0</td>\n",
              "      <td>0</td>\n",
              "      <td>0</td>\n",
              "      <td>0</td>\n",
              "      <td>0</td>\n",
              "      <td>0</td>\n",
              "      <td>0</td>\n",
              "      <td>0</td>\n",
              "      <td>0</td>\n",
              "      <td>2020</td>\n",
              "    </tr>\n",
              "    <tr>\n",
              "      <th>...</th>\n",
              "      <td>...</td>\n",
              "      <td>...</td>\n",
              "      <td>...</td>\n",
              "      <td>...</td>\n",
              "      <td>...</td>\n",
              "      <td>...</td>\n",
              "      <td>...</td>\n",
              "      <td>...</td>\n",
              "      <td>...</td>\n",
              "      <td>...</td>\n",
              "      <td>...</td>\n",
              "      <td>...</td>\n",
              "      <td>...</td>\n",
              "      <td>...</td>\n",
              "      <td>...</td>\n",
              "      <td>...</td>\n",
              "      <td>...</td>\n",
              "      <td>...</td>\n",
              "      <td>...</td>\n",
              "      <td>...</td>\n",
              "      <td>...</td>\n",
              "    </tr>\n",
              "    <tr>\n",
              "      <th>218863</th>\n",
              "      <td>218863</td>\n",
              "      <td>29.50</td>\n",
              "      <td>4</td>\n",
              "      <td>1.67</td>\n",
              "      <td>0.30</td>\n",
              "      <td>0.41</td>\n",
              "      <td>1.03</td>\n",
              "      <td>0.53</td>\n",
              "      <td>0.17</td>\n",
              "      <td>0.92</td>\n",
              "      <td>...</td>\n",
              "      <td>0</td>\n",
              "      <td>0</td>\n",
              "      <td>0</td>\n",
              "      <td>0</td>\n",
              "      <td>0</td>\n",
              "      <td>0</td>\n",
              "      <td>0</td>\n",
              "      <td>0</td>\n",
              "      <td>0</td>\n",
              "      <td>2022</td>\n",
              "    </tr>\n",
              "    <tr>\n",
              "      <th>218864</th>\n",
              "      <td>218864</td>\n",
              "      <td>29.50</td>\n",
              "      <td>4</td>\n",
              "      <td>1.97</td>\n",
              "      <td>0.30</td>\n",
              "      <td>0.41</td>\n",
              "      <td>1.45</td>\n",
              "      <td>0.35</td>\n",
              "      <td>0.17</td>\n",
              "      <td>1.07</td>\n",
              "      <td>...</td>\n",
              "      <td>0</td>\n",
              "      <td>0</td>\n",
              "      <td>0</td>\n",
              "      <td>0</td>\n",
              "      <td>0</td>\n",
              "      <td>0</td>\n",
              "      <td>0</td>\n",
              "      <td>0</td>\n",
              "      <td>0</td>\n",
              "      <td>2022</td>\n",
              "    </tr>\n",
              "    <tr>\n",
              "      <th>218865</th>\n",
              "      <td>218865</td>\n",
              "      <td>29.75</td>\n",
              "      <td>4</td>\n",
              "      <td>2.22</td>\n",
              "      <td>0.30</td>\n",
              "      <td>0.41</td>\n",
              "      <td>1.45</td>\n",
              "      <td>0.88</td>\n",
              "      <td>0.17</td>\n",
              "      <td>1.26</td>\n",
              "      <td>...</td>\n",
              "      <td>0</td>\n",
              "      <td>0</td>\n",
              "      <td>0</td>\n",
              "      <td>0</td>\n",
              "      <td>0</td>\n",
              "      <td>0</td>\n",
              "      <td>0</td>\n",
              "      <td>0</td>\n",
              "      <td>0</td>\n",
              "      <td>2022</td>\n",
              "    </tr>\n",
              "    <tr>\n",
              "      <th>218866</th>\n",
              "      <td>218866</td>\n",
              "      <td>29.75</td>\n",
              "      <td>4</td>\n",
              "      <td>2.71</td>\n",
              "      <td>0.54</td>\n",
              "      <td>0.41</td>\n",
              "      <td>1.81</td>\n",
              "      <td>0.88</td>\n",
              "      <td>0.37</td>\n",
              "      <td>1.42</td>\n",
              "      <td>...</td>\n",
              "      <td>0</td>\n",
              "      <td>0</td>\n",
              "      <td>0</td>\n",
              "      <td>0</td>\n",
              "      <td>0</td>\n",
              "      <td>0</td>\n",
              "      <td>0</td>\n",
              "      <td>0</td>\n",
              "      <td>0</td>\n",
              "      <td>2022</td>\n",
              "    </tr>\n",
              "    <tr>\n",
              "      <th>218867</th>\n",
              "      <td>218867</td>\n",
              "      <td>29.75</td>\n",
              "      <td>4</td>\n",
              "      <td>3.60</td>\n",
              "      <td>0.90</td>\n",
              "      <td>0.41</td>\n",
              "      <td>2.50</td>\n",
              "      <td>0.88</td>\n",
              "      <td>0.51</td>\n",
              "      <td>1.89</td>\n",
              "      <td>...</td>\n",
              "      <td>0</td>\n",
              "      <td>0</td>\n",
              "      <td>0</td>\n",
              "      <td>0</td>\n",
              "      <td>0</td>\n",
              "      <td>0</td>\n",
              "      <td>0</td>\n",
              "      <td>0</td>\n",
              "      <td>0</td>\n",
              "      <td>2022</td>\n",
              "    </tr>\n",
              "  </tbody>\n",
              "</table>\n",
              "<p>218868 rows × 76 columns</p>\n",
              "</div>\n",
              "      <button class=\"colab-df-convert\" onclick=\"convertToInteractive('df-4e445e58-633e-4f99-a4f1-4d9cfde1786d')\"\n",
              "              title=\"Convert this dataframe to an interactive table.\"\n",
              "              style=\"display:none;\">\n",
              "        \n",
              "  <svg xmlns=\"http://www.w3.org/2000/svg\" height=\"24px\"viewBox=\"0 0 24 24\"\n",
              "       width=\"24px\">\n",
              "    <path d=\"M0 0h24v24H0V0z\" fill=\"none\"/>\n",
              "    <path d=\"M18.56 5.44l.94 2.06.94-2.06 2.06-.94-2.06-.94-.94-2.06-.94 2.06-2.06.94zm-11 1L8.5 8.5l.94-2.06 2.06-.94-2.06-.94L8.5 2.5l-.94 2.06-2.06.94zm10 10l.94 2.06.94-2.06 2.06-.94-2.06-.94-.94-2.06-.94 2.06-2.06.94z\"/><path d=\"M17.41 7.96l-1.37-1.37c-.4-.4-.92-.59-1.43-.59-.52 0-1.04.2-1.43.59L10.3 9.45l-7.72 7.72c-.78.78-.78 2.05 0 2.83L4 21.41c.39.39.9.59 1.41.59.51 0 1.02-.2 1.41-.59l7.78-7.78 2.81-2.81c.8-.78.8-2.07 0-2.86zM5.41 20L4 18.59l7.72-7.72 1.47 1.35L5.41 20z\"/>\n",
              "  </svg>\n",
              "      </button>\n",
              "      \n",
              "  <style>\n",
              "    .colab-df-container {\n",
              "      display:flex;\n",
              "      flex-wrap:wrap;\n",
              "      gap: 12px;\n",
              "    }\n",
              "\n",
              "    .colab-df-convert {\n",
              "      background-color: #E8F0FE;\n",
              "      border: none;\n",
              "      border-radius: 50%;\n",
              "      cursor: pointer;\n",
              "      display: none;\n",
              "      fill: #1967D2;\n",
              "      height: 32px;\n",
              "      padding: 0 0 0 0;\n",
              "      width: 32px;\n",
              "    }\n",
              "\n",
              "    .colab-df-convert:hover {\n",
              "      background-color: #E2EBFA;\n",
              "      box-shadow: 0px 1px 2px rgba(60, 64, 67, 0.3), 0px 1px 3px 1px rgba(60, 64, 67, 0.15);\n",
              "      fill: #174EA6;\n",
              "    }\n",
              "\n",
              "    [theme=dark] .colab-df-convert {\n",
              "      background-color: #3B4455;\n",
              "      fill: #D2E3FC;\n",
              "    }\n",
              "\n",
              "    [theme=dark] .colab-df-convert:hover {\n",
              "      background-color: #434B5C;\n",
              "      box-shadow: 0px 1px 3px 1px rgba(0, 0, 0, 0.15);\n",
              "      filter: drop-shadow(0px 1px 2px rgba(0, 0, 0, 0.3));\n",
              "      fill: #FFFFFF;\n",
              "    }\n",
              "  </style>\n",
              "\n",
              "      <script>\n",
              "        const buttonEl =\n",
              "          document.querySelector('#df-4e445e58-633e-4f99-a4f1-4d9cfde1786d button.colab-df-convert');\n",
              "        buttonEl.style.display =\n",
              "          google.colab.kernel.accessAllowed ? 'block' : 'none';\n",
              "\n",
              "        async function convertToInteractive(key) {\n",
              "          const element = document.querySelector('#df-4e445e58-633e-4f99-a4f1-4d9cfde1786d');\n",
              "          const dataTable =\n",
              "            await google.colab.kernel.invokeFunction('convertToInteractive',\n",
              "                                                     [key], {});\n",
              "          if (!dataTable) return;\n",
              "\n",
              "          const docLinkHtml = 'Like what you see? Visit the ' +\n",
              "            '<a target=\"_blank\" href=https://colab.research.google.com/notebooks/data_table.ipynb>data table notebook</a>'\n",
              "            + ' to learn more about interactive tables.';\n",
              "          element.innerHTML = '';\n",
              "          dataTable['output_type'] = 'display_data';\n",
              "          await google.colab.output.renderOutput(dataTable, element);\n",
              "          const docLink = document.createElement('div');\n",
              "          docLink.innerHTML = docLinkHtml;\n",
              "          element.appendChild(docLink);\n",
              "        }\n",
              "      </script>\n",
              "    </div>\n",
              "  </div>\n",
              "  "
            ]
          },
          "metadata": {},
          "execution_count": 2
        }
      ],
      "source": [
        "dataset_features = pd.read_csv(\"/content/drive/MyDrive/dataset-processado/dataset_features.csv\")\n",
        "dataset_features"
      ]
    },
    {
      "cell_type": "markdown",
      "metadata": {
        "id": "3x2P3Ztx2lWe"
      },
      "source": [
        "### 2. Seleção das Features e Labels"
      ]
    },
    {
      "cell_type": "markdown",
      "metadata": {
        "id": "V6SlWGkYIL0m"
      },
      "source": [
        "Nessa parte definimos as varíaveis dependentes (y) e variáveis indepentes (x) que foram utilizadas nos modelos de predição. "
      ]
    },
    {
      "cell_type": "code",
      "execution_count": null,
      "metadata": {
        "id": "g18U3AUxA2hM",
        "colab": {
          "base_uri": "https://localhost:8080/"
        },
        "outputId": "ef3822e8-11b0-4266-d0e2-447316f581e3"
      },
      "outputs": [
        {
          "output_type": "stream",
          "name": "stderr",
          "text": [
            "/usr/local/lib/python3.7/dist-packages/ipykernel_launcher.py:41: SettingWithCopyWarning: \n",
            "A value is trying to be set on a copy of a slice from a DataFrame.\n",
            "Try using .loc[row_indexer,col_indexer] = value instead\n",
            "\n",
            "See the caveats in the documentation: https://pandas.pydata.org/pandas-docs/stable/user_guide/indexing.html#returning-a-view-versus-a-copy\n"
          ]
        }
      ],
      "source": [
        "from sklearn.model_selection import train_test_split\n",
        "\n",
        "# features a serem utilizadas\n",
        "X = dataset_features[['Hora Início','Dia da Semana','Mês','Dia', 'Feriado', 'Categoria_CARROS E MOTORES', 'Categoria_CULINARIO', 'Categoria_DEBATE',  \n",
        "       'Categoria_DOCUMENTARIO', 'Categoria_EDUCATIVO', 'Categoria_ENTREVISTA',\n",
        "       'Categoria_ESPORTE', 'Categoria_FEMININO', 'Categoria_FILME',\n",
        "       'Categoria_FUTEBOL', 'Categoria_GAME SHOW', 'Categoria_HUMORISTICO',\n",
        "       'Categoria_JORNALISMO', 'Categoria_MINISSERIE', 'Categoria_MUSICAL',\n",
        "       'Categoria_NOVELA', 'Categoria_OUTROS', 'Categoria_POLITICO',\n",
        "       'Categoria_PREMIACAO', 'Categoria_REALITY SHOW', 'Categoria_RELIGIOSO',\n",
        "       'Categoria_REPORTAGEM', 'Categoria_RURAL', 'Categoria_SERIES',\n",
        "       'Categoria_SHOW', 'Categoria_SORTEIO', 'Categoria_TELE VENDAS']]\n",
        "\n",
        "X_sem_categoria = dataset_features[['Hora Início','Dia da Semana','Mês','Dia', 'Feriado']]\n",
        "\n",
        "X_somente_categoria = dataset_features[['Categoria_CARROS E MOTORES', 'Categoria_CULINARIO', 'Categoria_DEBATE',  \n",
        "       'Categoria_DOCUMENTARIO', 'Categoria_EDUCATIVO', 'Categoria_ENTREVISTA',\n",
        "       'Categoria_ESPORTE', 'Categoria_FEMININO', 'Categoria_FILME',\n",
        "       'Categoria_FUTEBOL', 'Categoria_GAME SHOW', 'Categoria_HUMORISTICO',\n",
        "       'Categoria_JORNALISMO', 'Categoria_MINISSERIE', 'Categoria_MUSICAL',\n",
        "       'Categoria_NOVELA', 'Categoria_OUTROS', 'Categoria_POLITICO',\n",
        "       'Categoria_PREMIACAO', 'Categoria_REALITY SHOW', 'Categoria_RELIGIOSO',\n",
        "       'Categoria_REPORTAGEM', 'Categoria_RURAL', 'Categoria_SERIES',\n",
        "       'Categoria_SHOW', 'Categoria_SORTEIO', 'Categoria_TELE VENDAS']]\n",
        "\n",
        "\n",
        "# labels a serem utilizadas\n",
        "y_rat = dataset_features[['Total Domicílios | Rat%', 'AB | Rat%',\n",
        "       'C1 | Rat%', 'C2 | Rat%', 'DE | Rat%', 'Masculino | Rat%',\n",
        "       'Feminino | Rat%', '4-11 anos | Rat%', '12-17 anos | Rat%',\n",
        "       '18-24 anos | Rat%', '25-34 anos | Rat%', '35-49 anos | Rat%',\n",
        "       '50-59 anos | Rat%', '60+ anos | Rat%']]\n",
        "\n",
        "# TODO: Change to fid and share columns\n",
        "y_fid = dataset_features[[\n",
        "       'Total Indivíduos | Fid%', 'AB | Fid%', 'C1 | Fid%', 'C2 | Fid%',\n",
        "       'DE | Fid%', 'Masculino | Fid%', 'Feminino | Fid%', '4-11 anos | Fid%',\n",
        "       '12-17 anos | Fid%', '18-24 anos | Fid%', '25-34 anos | Fid%',\n",
        "       '35-49 anos | Fid%', '50-59 anos | Fid%', '60+ anos | Fid%']]\n",
        "\n",
        "y_fid['Total Indivíduos | Fid%'] = y_fid['Total Indivíduos | Fid%'].str.replace(',','.').astype('float64')\n",
        "\n",
        "y_share = dataset_features[['Total Domicílios | Shr%', 'AB | Shr%', 'C1 | Shr%', 'C2 | Shr%',\n",
        "       'DE | Shr%', 'Masculino | Shr%', 'Feminino | Shr%', '4-11 anos | Shr%',\n",
        "       '12-17 anos | Shr%', '18-24 anos | Shr%', '25-34 anos | Shr%',\n",
        "       '35-49 anos | Shr%', '50-59 anos | Shr%', '60+ anos | Shr%']]"
      ]
    },
    {
      "cell_type": "markdown",
      "metadata": {
        "id": "hj8E7_vz2vNE"
      },
      "source": [
        "### 2.1 Separação entre features/labels de teste e features/labels de validação"
      ]
    },
    {
      "cell_type": "markdown",
      "metadata": {
        "id": "L5Ow9bNGIxR6"
      },
      "source": []
    },
    {
      "cell_type": "code",
      "execution_count": null,
      "metadata": {
        "id": "esT1KsT128Ey"
      },
      "outputs": [],
      "source": [
        "X_train, X_test, y_train_rat, y_test_rat = train_test_split(X,y_rat, random_state=42)\n",
        "_, _, y_train_share, y_test_share = train_test_split(X,y_share, random_state=42)\n",
        "_, _, y_train_fid, y_test_fid = train_test_split(X,y_fid, random_state=42)"
      ]
    },
    {
      "cell_type": "markdown",
      "metadata": {
        "id": "U3ZZKqzSMRZT"
      },
      "source": [
        "### 3. Modelos de Regressão\n",
        "import das bibliotecas necessárias"
      ]
    },
    {
      "cell_type": "code",
      "execution_count": null,
      "metadata": {
        "id": "oxoVn8k1MX0r"
      },
      "outputs": [],
      "source": [
        "# TODO: Importar aqui somente os modelos e ferramentas utilizadas\n",
        "\n",
        "# Modelos\n",
        "from lightgbm import LGBMRegressor\n",
        "\n",
        "# Métricas de Avaliação\n",
        "from sklearn.metrics import r2_score, mean_squared_error\n",
        "\n",
        "#Facilitador para múltiplos outputs\n",
        "from sklearn.multioutput import MultiOutputRegressor"
      ]
    },
    {
      "cell_type": "markdown",
      "metadata": {
        "id": "rwVLseK4VPJ7"
      },
      "source": [
        "### 3.1 Light GBM"
      ]
    },
    {
      "cell_type": "code",
      "execution_count": null,
      "metadata": {
        "colab": {
          "base_uri": "https://localhost:8080/"
        },
        "id": "au2iJ0blVad_",
        "outputId": "a314f125-2765-497d-f180-f1411a631758"
      },
      "outputs": [
        {
          "output_type": "execute_result",
          "data": {
            "text/plain": [
              "MultiOutputRegressor(estimator=LGBMRegressor(colsample_bytree=0.8747240161725821,\n",
              "                                             learning_rate=0.04,\n",
              "                                             min_sum_hessian_in_leaf=0.004211470867172107,\n",
              "                                             n_estimators=585, num_leaves=208,\n",
              "                                             num_threads=0, random_state=42,\n",
              "                                             reg_alpha=0.014838817621637291,\n",
              "                                             reg_lambda=2.2946640156968945e-06,\n",
              "                                             subsample=0.765298451176346,\n",
              "                                             verbosity=-1))"
            ]
          },
          "metadata": {},
          "execution_count": 6
        }
      ],
      "source": [
        "modelo_lgbm_rat = MultiOutputRegressor(LGBMRegressor(learning_rate=0.04, num_leaves=247, random_state=42, n_estimators=10000, colsample_bytree=0.9982550687656891, subsample=0.5512789317708288, verbosity=-1, num_threads=0, min_sum_hessian_in_leaf=5.0760508277840675, reg_alpha=0.0000017987930473761658\n",
        ", reg_lambda=0.05702044679692809))\n",
        "modelo_lgbm_share = MultiOutputRegressor(LGBMRegressor(learning_rate=0.04, num_leaves=248, random_state=42, n_estimators=10000, colsample_bytree=0.9493232832624843, subsample=0.8454217478794726, verbosity=-1, num_threads=0, min_sum_hessian_in_leaf=0.08096469608219674, reg_alpha=0.0000017287289950264267\n",
        ", reg_lambda=0.002173930392411803))\n",
        "modelo_lgbm_fid = MultiOutputRegressor(LGBMRegressor(learning_rate=0.04, num_leaves=208, random_state=42, n_estimators=585, colsample_bytree=0.8747240161725821, subsample=0.765298451176346, verbosity=-1, num_threads=0, min_sum_hessian_in_leaf=0.004211470867172107, reg_alpha=0.014838817621637291, reg_lambda=0.0000022946640156968945))\n",
        "\n",
        "#Rat\n",
        "modelo_lgbm_rat.fit(X_train,y_train_rat,verbose=2,eval_metric='logloss')\n",
        "\n",
        "#Share\n",
        "modelo_lgbm_share.fit(X_train,y_train_share,verbose=2,eval_metric='logloss')\n",
        "\n",
        "#Fid\n",
        "modelo_lgbm_fid.fit(X_train,y_train_fid,verbose=2,eval_metric='logloss')\n"
      ]
    },
    {
      "cell_type": "code",
      "execution_count": null,
      "metadata": {
        "id": "XxqofMXxV2oE"
      },
      "outputs": [],
      "source": [
        "# Rat Scores\n",
        "test_pred_lgbm_rat = modelo_lgbm_rat.predict(X_test)\n",
        "train_pred_lgbm_rat = modelo_lgbm_rat.predict(X_train)\n",
        "print(\"\\n\\n## Rat %\")\n",
        "print('Precisão (treino): ',r2_score(y_train_rat, train_pred_lgbm_rat))\n",
        "print('Mean Squared Error (Treino): ', mean_squared_error(y_train_rat, train_pred_lgbm_rat))\n",
        "print('Precisão (teste): ', r2_score(y_test_rat, test_pred_lgbm_rat))\n",
        "print('Mean Squared Error (teste): ', mean_squared_error(y_test_rat, test_pred_lgbm_rat))\n",
        "\n",
        "# Share Scores\n",
        "test_pred_lgbm_share = modelo_lgbm_share.predict(X_test)\n",
        "train_pred_lgbm_share = modelo_lgbm_share.predict(X_train)\n",
        "print(\"\\n\\n## Share %\")\n",
        "print('Precisão (treino): ',r2_score(y_train_share, train_pred_lgbm_share))\n",
        "print('Mean Squared Error (Treino): ', mean_squared_error(y_train_share, train_pred_lgbm_share))\n",
        "print('Precisão (teste): ', r2_score(y_test_share, test_pred_lgbm_share))\n",
        "print('Mean Squared Error (teste): ', mean_squared_error(y_test_share, test_pred_lgbm_share))\n",
        "\n",
        "# Fid Scores\n",
        "test_pred_lgbm_fid = modelo_lgbm_fid.predict(X_test)\n",
        "train_pred_lgbm_fid = modelo_lgbm_fid.predict(X_train)\n",
        "print(\"\\n\\n## Fid %\")\n",
        "print('Precisão (treino): ',r2_score(y_train_fid, train_pred_lgbm_fid))\n",
        "print('Mean Squared Error (Treino): ', mean_squared_error(y_train_fid, train_pred_lgbm_fid))\n",
        "print('Precisão (teste): ', r2_score(y_test_fid, test_pred_lgbm_fid))\n",
        "print('Mean Squared Error (teste): ', mean_squared_error(y_test_fid, test_pred_lgbm_fid))\n",
        "\n"
      ]
    },
    {
      "cell_type": "markdown",
      "metadata": {
        "id": "vKUsBalNNiFe"
      },
      "source": [
        "### 3.1.1 Testes de Hiperparâmetros"
      ]
    },
    {
      "cell_type": "markdown",
      "metadata": {
        "id": "8T5DKmvPNzHR"
      },
      "source": [
        "###### 3.1.1.1 Importação de Bibliotecas"
      ]
    },
    {
      "cell_type": "code",
      "execution_count": null,
      "metadata": {
        "id": "j0S5eS1HN1FS"
      },
      "outputs": [],
      "source": [
        "!pip install --quiet optuna\n",
        "!pip install verstack\n",
        "import optuna\n",
        "from sklearn.metrics import log_loss\n",
        "from sklearn.model_selection import StratifiedKFold"
      ]
    },
    {
      "cell_type": "code",
      "execution_count": null,
      "metadata": {
        "id": "iMED1d8QCvXM"
      },
      "outputs": [],
      "source": [
        "from verstack import LGBMTuner"
      ]
    },
    {
      "cell_type": "markdown",
      "metadata": {
        "id": "o3EvHCSmCxAP"
      },
      "source": [
        "###### 3.1.1.2 Teste de Hiperparâmetro para Rat"
      ]
    },
    {
      "cell_type": "code",
      "execution_count": null,
      "metadata": {
        "id": "N4hOaWEjZvEl"
      },
      "outputs": [],
      "source": [
        "tuner_rat = LGBMTuner(metric = 'mse')\n",
        "tuner_rat.fit(X_train, y_train_rat['Total Domicílios | Rat%'])\n",
        "pred_rat = tuner_rat.predict(X_test)"
      ]
    },
    {
      "cell_type": "markdown",
      "metadata": {
        "id": "K8qGEnZnDNEG"
      },
      "source": [
        "###### 3.1.1.3 Teste de Hiperparâmetro para Share"
      ]
    },
    {
      "cell_type": "code",
      "execution_count": null,
      "metadata": {
        "id": "MvvAzBM8CsEZ"
      },
      "outputs": [],
      "source": [
        "tuner_share = LGBMTuner(metric = 'mse')\n",
        "tuner_share.fit(X_train, y_train_share['Total Domicílios | Shr%'])\n",
        "pred_share = tuner_share.predict(X_test)"
      ]
    },
    {
      "cell_type": "markdown",
      "metadata": {
        "id": "jyuM4KkrDP86"
      },
      "source": [
        "###### 3.1.1.4 Teste de Hiperpatrâmetro para Fid"
      ]
    },
    {
      "cell_type": "code",
      "execution_count": null,
      "metadata": {
        "id": "2IdAlCHIDTRa"
      },
      "outputs": [],
      "source": [
        "tuner_fid = LGBMTuner(metric = 'mse')\n",
        "tuner_fid.fit(X_train, y_train_fid['Total Indivíduos | Fid%'])\n",
        "pred_fid = tuner_fid.predict(X_test)"
      ]
    },
    {
      "cell_type": "code",
      "execution_count": null,
      "metadata": {
        "id": "Pw0hVDaOf2Ab"
      },
      "outputs": [],
      "source": [
        "tuner.plot_importances(interactive = True)"
      ]
    }
  ],
  "metadata": {
    "colab": {
      "collapsed_sections": [],
      "provenance": []
    },
    "kernelspec": {
      "display_name": "Python 3",
      "name": "python3"
    },
    "language_info": {
      "name": "python"
    }
  },
  "nbformat": 4,
  "nbformat_minor": 0
}